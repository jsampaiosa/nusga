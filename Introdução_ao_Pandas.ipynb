{
  "nbformat": 4,
  "nbformat_minor": 0,
  "metadata": {
    "colab": {
      "name": "Introdução ao Pandas.ipynb",
      "provenance": [],
      "collapsed_sections": [],
      "include_colab_link": true
    },
    "kernelspec": {
      "name": "python3",
      "display_name": "Python 3"
    }
  },
  "cells": [
    {
      "cell_type": "markdown",
      "metadata": {
        "id": "view-in-github",
        "colab_type": "text"
      },
      "source": [
        "<a href=\"https://colab.research.google.com/github/jsampaiosa/nusga/blob/main/Introdu%C3%A7%C3%A3o_ao_Pandas.ipynb\" target=\"_parent\"><img src=\"https://colab.research.google.com/assets/colab-badge.svg\" alt=\"Open In Colab\"/></a>"
      ]
    },
    {
      "cell_type": "markdown",
      "metadata": {
        "id": "vvplGyW2N3rX"
      },
      "source": [
        "<center><img alt=\"Colaboratory logo\" width=\"10%\" src=\"https://nusga.com.br/wp-content/uploads/2021/01/cropped-cropped-cropped-Logo-2-1.png\"><center>\n",
        "\n",
        "#### <CENTER><H1>**NUSGA**<H1><CENTER>\n",
        "*by [nusga.com.br](https://nusga.com.br)*<CENTER>\n",
        "\n",
        "---\n",
        "\n",
        "# Introdução ao Pandas\n",
        "\n",
        "Pandas é uma biblioteca do Python, provavelmente a mais popular de todas quando se trata de *Data Science*.\n",
        "\n",
        "Por meio do Pandas, você consegue importar dados (arquivos `csv`e `xls`, por exemplo), tratar esses dados, transformá-los e realizar análises completas dos mesmos.\n",
        "\n",
        "Uma vez que você importa um conjunto de dados usando Pandas, fica muito fácil fazer coisas do tipo:\n",
        "\n",
        "* Extrai informações estatísticas\n",
        "  * Qual a média, mediana, valores máximos e mínimos?\n",
        "  * Qual é a distribuição das suas variáveis?\n",
        "  * Qual a correlação entre duas variáveis quaisquer?\n",
        "* Exportar os dados para um novo formato de arquivo\n",
        "* Visualizar gráficos dos mais diferentes tipos\n",
        "* Alimentar modelos de *machine learning* feitos em cima do Scikit-learn\n",
        "\n",
        "Pandas é construído em cima de outra biblioteca extremamente popular, o **NumPy**. Quem já utilizou esta, vai encontrar muita similaridade com aquela."
      ]
    },
    {
      "cell_type": "markdown",
      "metadata": {
        "id": "NtGy-OuUS6ba"
      },
      "source": [
        "## Instalando e utilizando o Pandas\n",
        "\n",
        "Caso você esteja rodando o código na sua máquina local, o Pandas pode ser instalado pela linha de comando usando o seu gerenciador de pacotes (`pip` ou `conda`).\n",
        "\n",
        "Dependendo de qual deles seja, o comando que você deve usar é\n",
        "\n",
        "`pip install pandas`\n",
        "\n",
        "ou \n",
        "\n",
        "`conda install pandas`\n",
        "\n",
        "Como estamos usando o Colab neste curso, o Pandas vem instalado por padrão. Ou seja, a única coisa que você precisa é importar o pacote. Normalmente, para importar qualquer pacote basta apenas usar o comando `import nome_do_pacote`.\n",
        "\n",
        "No entanto, é muito comum a gente importar o Pandas usando `import pandas as pd` para abreviar o nome da biblioteca. Se você reparar em projetos de outros cientistas de dados, vai ver que esse é (provavelmente) a maneira que eles utilizam."
      ]
    },
    {
      "cell_type": "code",
      "metadata": {
        "id": "e3hcsBp1TdWE"
      },
      "source": [
        "# importar a biblioteca pandas\n",
        "import pandas as pd"
      ],
      "execution_count": null,
      "outputs": []
    },
    {
      "cell_type": "markdown",
      "metadata": {
        "id": "SQPlLLa_b4qC"
      },
      "source": [
        "### Importar arquivos `csv`\n",
        "\n",
        "Para dar um exemplo de como é simples importar dados com o Pandas, veja o seguinte exemplo.\n",
        "\n",
        "Pelo site [Yahoo Finance](https://finance.yahoo.com/quote/BBAS3.SA/history?p=BBAS3.SA), baixei os dados da ação ordinária do Banco do Brasil (BBAS3) em formato `csv` e disponibilizei o arquivo [neste link](https://raw.githubusercontent.com/carlosfab/curso_data_science_na_pratica/master/modulo_02/BBAS3.SA.csv). Se eu abrir esse arquivo na minha máquina pelo Excel, é assim que ele vai aparecer para mim:\n",
        "\n",
        "<center><img src=\"https://raw.githubusercontent.com/carlosfab/curso_data_science_na_pratica/master/modulo_02/bbas3_excel.png\" height=\"300px\"></center>\n",
        "\n",
        "Importar esse mesmo arquivo usando o Pandas é tão simples quanto executar a função `pd.read_csv(\"local_do_arquivo.csv\")`, informando qual o endereço que o `csv` se encontra (endereço na internet ou caminho na máquia local.\n",
        "\n"
      ]
    },
    {
      "cell_type": "code",
      "metadata": {
        "id": "ve_UpCilezaa"
      },
      "source": [
        "# importar o arquivo csv para o Pandas\n",
        "df = pd.read_csv(\"https://raw.githubusercontent.com/jsampaiosa/nusga/main/BBAS3.SA.csv\")"
      ],
      "execution_count": null,
      "outputs": []
    },
    {
      "cell_type": "markdown",
      "metadata": {
        "id": "z-5wV1LoUJqR"
      },
      "source": [
        "Pronto! O arquivo `BBAS3.SA.csv` foi importado com sucesso e já está pronto para ser usado neste *notebook*. \n",
        "\n",
        "### Conhecendo os componentes básicos do Pandas\n",
        "\n",
        "Os dois componentes básicos que a gente deve conhecer quando lidando com Pandas são `Series` e `DataFrame`. \n",
        "\n",
        "<center><img src=\"https://raw.githubusercontent.com/carlosfab/curso_data_science_na_pratica/master/modulo_02/componentes_pandas.png\"></center>\n",
        "\n",
        "Simplificadamente, você pode pensar o `DataFrame` como sendo uma planilha de Excel, e `Series` como sendo apenas uma coluna individual.\n",
        "\n",
        "Apesar de parecer conceitualmente simples, estas duas estruturas nativas do Pandas facilitam muito o trabalho com dados, uma vez que elas podem armazenar qualquer tipo de dado.\n",
        "\n",
        "* `type()` - mostra qual o tipo da variável\n"
      ]
    },
    {
      "cell_type": "code",
      "metadata": {
        "id": "f-sqkuQwaRuc",
        "colab": {
          "base_uri": "https://localhost:8080/"
        },
        "outputId": "23753f36-7416-4300-98ce-76b257b592e8"
      },
      "source": [
        "# ver o tipo da variável df\n",
        "type(df)"
      ],
      "execution_count": null,
      "outputs": [
        {
          "output_type": "execute_result",
          "data": {
            "text/plain": [
              "pandas.core.frame.DataFrame"
            ]
          },
          "metadata": {
            "tags": []
          },
          "execution_count": 94
        }
      ]
    },
    {
      "cell_type": "code",
      "metadata": {
        "colab": {
          "base_uri": "https://localhost:8080/"
        },
        "id": "lKLbZO17LiEn",
        "outputId": "bf51f6c9-8599-40ab-f08d-3095d25323d5"
      },
      "source": [
        "type(100)"
      ],
      "execution_count": null,
      "outputs": [
        {
          "output_type": "execute_result",
          "data": {
            "text/plain": [
              "int"
            ]
          },
          "metadata": {
            "tags": []
          },
          "execution_count": 95
        }
      ]
    },
    {
      "cell_type": "code",
      "metadata": {
        "colab": {
          "base_uri": "https://localhost:8080/"
        },
        "id": "K_MCv4oXLuMs",
        "outputId": "1c5e1fe7-3337-4cfb-8e68-67e63d729dec"
      },
      "source": [
        "type(['Open'])"
      ],
      "execution_count": null,
      "outputs": [
        {
          "output_type": "execute_result",
          "data": {
            "text/plain": [
              "list"
            ]
          },
          "metadata": {
            "tags": []
          },
          "execution_count": 96
        }
      ]
    },
    {
      "cell_type": "code",
      "metadata": {
        "colab": {
          "base_uri": "https://localhost:8080/"
        },
        "id": "C-diS5f8L74e",
        "outputId": "929c12a7-e00a-44f6-a4c4-6ef4ebc124dd"
      },
      "source": [
        "type(df['Volume'])"
      ],
      "execution_count": null,
      "outputs": [
        {
          "output_type": "execute_result",
          "data": {
            "text/plain": [
              "pandas.core.series.Series"
            ]
          },
          "metadata": {
            "tags": []
          },
          "execution_count": 97
        }
      ]
    },
    {
      "cell_type": "code",
      "metadata": {
        "id": "8BPjwOX4hYk2",
        "colab": {
          "base_uri": "https://localhost:8080/"
        },
        "outputId": "de878893-c77d-47c0-8a47-af6b9c1376c7"
      },
      "source": [
        "# ver o tipo de uma coluna da variável df\n",
        "type(df['Date'])"
      ],
      "execution_count": null,
      "outputs": [
        {
          "output_type": "execute_result",
          "data": {
            "text/plain": [
              "pandas.core.series.Series"
            ]
          },
          "metadata": {
            "tags": []
          },
          "execution_count": 98
        }
      ]
    },
    {
      "cell_type": "code",
      "metadata": {
        "colab": {
          "base_uri": "https://localhost:8080/",
          "height": 297
        },
        "id": "kGxqfIlCZAzu",
        "outputId": "307136cf-1dce-4536-b7a3-1487d24b38e1"
      },
      "source": [
        "df.describe()"
      ],
      "execution_count": 125,
      "outputs": [
        {
          "output_type": "execute_result",
          "data": {
            "text/html": [
              "<div>\n",
              "<style scoped>\n",
              "    .dataframe tbody tr th:only-of-type {\n",
              "        vertical-align: middle;\n",
              "    }\n",
              "\n",
              "    .dataframe tbody tr th {\n",
              "        vertical-align: top;\n",
              "    }\n",
              "\n",
              "    .dataframe thead th {\n",
              "        text-align: right;\n",
              "    }\n",
              "</style>\n",
              "<table border=\"1\" class=\"dataframe\">\n",
              "  <thead>\n",
              "    <tr style=\"text-align: right;\">\n",
              "      <th></th>\n",
              "      <th>Open</th>\n",
              "      <th>High</th>\n",
              "      <th>Low</th>\n",
              "      <th>Close</th>\n",
              "      <th>Adj Close</th>\n",
              "      <th>Volume</th>\n",
              "    </tr>\n",
              "  </thead>\n",
              "  <tbody>\n",
              "    <tr>\n",
              "      <th>count</th>\n",
              "      <td>246.000000</td>\n",
              "      <td>246.000000</td>\n",
              "      <td>246.000000</td>\n",
              "      <td>246.000000</td>\n",
              "      <td>246.000000</td>\n",
              "      <td>2.460000e+02</td>\n",
              "    </tr>\n",
              "    <tr>\n",
              "      <th>mean</th>\n",
              "      <td>32.935935</td>\n",
              "      <td>33.442317</td>\n",
              "      <td>32.431423</td>\n",
              "      <td>32.886057</td>\n",
              "      <td>31.704960</td>\n",
              "      <td>1.840031e+07</td>\n",
              "    </tr>\n",
              "    <tr>\n",
              "      <th>std</th>\n",
              "      <td>2.716492</td>\n",
              "      <td>2.744264</td>\n",
              "      <td>2.651604</td>\n",
              "      <td>2.688801</td>\n",
              "      <td>2.447484</td>\n",
              "      <td>8.548925e+06</td>\n",
              "    </tr>\n",
              "    <tr>\n",
              "      <th>min</th>\n",
              "      <td>27.450001</td>\n",
              "      <td>28.790001</td>\n",
              "      <td>27.020000</td>\n",
              "      <td>27.860001</td>\n",
              "      <td>27.377552</td>\n",
              "      <td>7.301400e+06</td>\n",
              "    </tr>\n",
              "    <tr>\n",
              "      <th>25%</th>\n",
              "      <td>30.452500</td>\n",
              "      <td>30.872501</td>\n",
              "      <td>29.925000</td>\n",
              "      <td>30.432500</td>\n",
              "      <td>29.624222</td>\n",
              "      <td>1.331390e+07</td>\n",
              "    </tr>\n",
              "    <tr>\n",
              "      <th>50%</th>\n",
              "      <td>33.010000</td>\n",
              "      <td>33.465001</td>\n",
              "      <td>32.535000</td>\n",
              "      <td>33.060000</td>\n",
              "      <td>31.455303</td>\n",
              "      <td>1.703415e+07</td>\n",
              "    </tr>\n",
              "    <tr>\n",
              "      <th>75%</th>\n",
              "      <td>34.425000</td>\n",
              "      <td>34.947501</td>\n",
              "      <td>33.807501</td>\n",
              "      <td>34.349998</td>\n",
              "      <td>32.921363</td>\n",
              "      <td>2.158825e+07</td>\n",
              "    </tr>\n",
              "    <tr>\n",
              "      <th>max</th>\n",
              "      <td>39.849998</td>\n",
              "      <td>40.560001</td>\n",
              "      <td>39.290001</td>\n",
              "      <td>39.790001</td>\n",
              "      <td>38.509823</td>\n",
              "      <td>1.020361e+08</td>\n",
              "    </tr>\n",
              "  </tbody>\n",
              "</table>\n",
              "</div>"
            ],
            "text/plain": [
              "             Open        High         Low       Close   Adj Close        Volume\n",
              "count  246.000000  246.000000  246.000000  246.000000  246.000000  2.460000e+02\n",
              "mean    32.935935   33.442317   32.431423   32.886057   31.704960  1.840031e+07\n",
              "std      2.716492    2.744264    2.651604    2.688801    2.447484  8.548925e+06\n",
              "min     27.450001   28.790001   27.020000   27.860001   27.377552  7.301400e+06\n",
              "25%     30.452500   30.872501   29.925000   30.432500   29.624222  1.331390e+07\n",
              "50%     33.010000   33.465001   32.535000   33.060000   31.455303  1.703415e+07\n",
              "75%     34.425000   34.947501   33.807501   34.349998   32.921363  2.158825e+07\n",
              "max     39.849998   40.560001   39.290001   39.790001   38.509823  1.020361e+08"
            ]
          },
          "metadata": {
            "tags": []
          },
          "execution_count": 125
        }
      ]
    },
    {
      "cell_type": "markdown",
      "metadata": {
        "id": "4A-F1ajofEjs"
      },
      "source": [
        "### Ver dimensões do DataFrame\n",
        "\n",
        "Veja novamente a imagem acima. Basicamente, o arquivo que importamos se parece com uma simples tabela de Excel, composta por linhas e colunas. Para você ver o tamanho dessa \"tabela\", o que significa ver o formato (*shape*) dela, basta executar `df.shape`."
      ]
    },
    {
      "cell_type": "code",
      "metadata": {
        "id": "fkap8AgUgG-5",
        "colab": {
          "base_uri": "https://localhost:8080/"
        },
        "outputId": "3271b48a-6d0b-4401-ae8c-84e077b0a82a"
      },
      "source": [
        "# ver o tamanho do dataframe (formato)\n",
        "df.shape"
      ],
      "execution_count": null,
      "outputs": [
        {
          "output_type": "execute_result",
          "data": {
            "text/plain": [
              "(247, 7)"
            ]
          },
          "metadata": {
            "tags": []
          },
          "execution_count": 99
        }
      ]
    },
    {
      "cell_type": "code",
      "metadata": {
        "colab": {
          "base_uri": "https://localhost:8080/"
        },
        "id": "ZpW590kxMTL1",
        "outputId": "f4930276-b302-417f-e61c-f721b976924f"
      },
      "source": [
        "df.shape[0]"
      ],
      "execution_count": null,
      "outputs": [
        {
          "output_type": "execute_result",
          "data": {
            "text/plain": [
              "247"
            ]
          },
          "metadata": {
            "tags": []
          },
          "execution_count": 100
        }
      ]
    },
    {
      "cell_type": "code",
      "metadata": {
        "colab": {
          "base_uri": "https://localhost:8080/"
        },
        "id": "G7mSw49BMkod",
        "outputId": "33fc76b4-aee3-436e-8749-17389e308e00"
      },
      "source": [
        "df.shape[1]"
      ],
      "execution_count": null,
      "outputs": [
        {
          "output_type": "execute_result",
          "data": {
            "text/plain": [
              "7"
            ]
          },
          "metadata": {
            "tags": []
          },
          "execution_count": 101
        }
      ]
    },
    {
      "cell_type": "markdown",
      "metadata": {
        "id": "-yQEWd6NgGxu"
      },
      "source": [
        "Quando você executar a célula acima, vai receber como *output* os valores `(247, 7)`. Isso significa que o arquivo importado possui 1245 linhas e 7 colunas. "
      ]
    },
    {
      "cell_type": "markdown",
      "metadata": {
        "id": "PWKUeDZrwvVt"
      },
      "source": [
        "### Conhecendo os dados\n",
        "\n",
        "Uma vez que você importou a sua base de dados para o Pandas, existem muitos atributos e métodos nativos da estrutura *DataFrame* que facilitam muito a exploração de dados.\n",
        "\n",
        "Uma das principais funções da biblioteca, e que você irá usar em praticamente todos os seus projetos é `df.head()` e `df.tail()`.\n",
        "\n",
        "O arquivo `csv` com os dados da ação BBAS3 contém 248 linhas, mas o normal é você lidar com milhares ou centenas de milhares de linhas. Obviamente, seria inviável se tivessemos que olhar cada linha para entender como os dados estão apresentados.\n",
        "\n",
        "Na verdade, quando a gente importa um *dataset*, queremos dar uma olhadinha rápida em algumas entradas, só para ter noção dos dados que iremos lidar. Isso é feito facilmente com:\n",
        "\n",
        "* `df.head()` - exibe as 5 primeiras entradas do conjunto de dados\n",
        "* `df.tail()` - exibe as 5 últimas entradas do conjunto de dados"
      ]
    },
    {
      "cell_type": "code",
      "metadata": {
        "id": "24DU6xs3wu_Y",
        "colab": {
          "base_uri": "https://localhost:8080/",
          "height": 204
        },
        "outputId": "e8025366-8e27-4761-873d-9dfb703fe2e3"
      },
      "source": [
        "# mostrar as 5 primeiras entradas do DataFrame\n",
        "df.head()"
      ],
      "execution_count": null,
      "outputs": [
        {
          "output_type": "execute_result",
          "data": {
            "text/html": [
              "<div>\n",
              "<style scoped>\n",
              "    .dataframe tbody tr th:only-of-type {\n",
              "        vertical-align: middle;\n",
              "    }\n",
              "\n",
              "    .dataframe tbody tr th {\n",
              "        vertical-align: top;\n",
              "    }\n",
              "\n",
              "    .dataframe thead th {\n",
              "        text-align: right;\n",
              "    }\n",
              "</style>\n",
              "<table border=\"1\" class=\"dataframe\">\n",
              "  <thead>\n",
              "    <tr style=\"text-align: right;\">\n",
              "      <th></th>\n",
              "      <th>Date</th>\n",
              "      <th>Open</th>\n",
              "      <th>High</th>\n",
              "      <th>Low</th>\n",
              "      <th>Close</th>\n",
              "      <th>Adj Close</th>\n",
              "      <th>Volume</th>\n",
              "    </tr>\n",
              "  </thead>\n",
              "  <tbody>\n",
              "    <tr>\n",
              "      <th>0</th>\n",
              "      <td>2020-05-28</td>\n",
              "      <td>30.610001</td>\n",
              "      <td>31.459999</td>\n",
              "      <td>30.209999</td>\n",
              "      <td>30.790001</td>\n",
              "      <td>29.048223</td>\n",
              "      <td>20732700.0</td>\n",
              "    </tr>\n",
              "    <tr>\n",
              "      <th>1</th>\n",
              "      <td>2020-05-29</td>\n",
              "      <td>30.500000</td>\n",
              "      <td>30.850000</td>\n",
              "      <td>29.750000</td>\n",
              "      <td>30.840000</td>\n",
              "      <td>29.095390</td>\n",
              "      <td>26926700.0</td>\n",
              "    </tr>\n",
              "    <tr>\n",
              "      <th>2</th>\n",
              "      <td>2020-06-01</td>\n",
              "      <td>30.770000</td>\n",
              "      <td>32.150002</td>\n",
              "      <td>30.559999</td>\n",
              "      <td>31.799999</td>\n",
              "      <td>30.001083</td>\n",
              "      <td>22043600.0</td>\n",
              "    </tr>\n",
              "    <tr>\n",
              "      <th>3</th>\n",
              "      <td>2020-06-02</td>\n",
              "      <td>32.599998</td>\n",
              "      <td>32.900002</td>\n",
              "      <td>32.279999</td>\n",
              "      <td>32.820000</td>\n",
              "      <td>30.963381</td>\n",
              "      <td>15772200.0</td>\n",
              "    </tr>\n",
              "    <tr>\n",
              "      <th>4</th>\n",
              "      <td>2020-06-03</td>\n",
              "      <td>34.470001</td>\n",
              "      <td>35.000000</td>\n",
              "      <td>33.840000</td>\n",
              "      <td>34.750000</td>\n",
              "      <td>32.784206</td>\n",
              "      <td>29497200.0</td>\n",
              "    </tr>\n",
              "  </tbody>\n",
              "</table>\n",
              "</div>"
            ],
            "text/plain": [
              "         Date       Open       High  ...      Close  Adj Close      Volume\n",
              "0  2020-05-28  30.610001  31.459999  ...  30.790001  29.048223  20732700.0\n",
              "1  2020-05-29  30.500000  30.850000  ...  30.840000  29.095390  26926700.0\n",
              "2  2020-06-01  30.770000  32.150002  ...  31.799999  30.001083  22043600.0\n",
              "3  2020-06-02  32.599998  32.900002  ...  32.820000  30.963381  15772200.0\n",
              "4  2020-06-03  34.470001  35.000000  ...  34.750000  32.784206  29497200.0\n",
              "\n",
              "[5 rows x 7 columns]"
            ]
          },
          "metadata": {
            "tags": []
          },
          "execution_count": 102
        }
      ]
    },
    {
      "cell_type": "code",
      "metadata": {
        "id": "TGf020rXwu0T",
        "colab": {
          "base_uri": "https://localhost:8080/",
          "height": 204
        },
        "outputId": "bc55a6e1-c6fb-43c7-a7d4-dd7568d38d49"
      },
      "source": [
        "# mostrar as 5 últimas entradas do DataFrame\n",
        "df.tail()"
      ],
      "execution_count": null,
      "outputs": [
        {
          "output_type": "execute_result",
          "data": {
            "text/html": [
              "<div>\n",
              "<style scoped>\n",
              "    .dataframe tbody tr th:only-of-type {\n",
              "        vertical-align: middle;\n",
              "    }\n",
              "\n",
              "    .dataframe tbody tr th {\n",
              "        vertical-align: top;\n",
              "    }\n",
              "\n",
              "    .dataframe thead th {\n",
              "        text-align: right;\n",
              "    }\n",
              "</style>\n",
              "<table border=\"1\" class=\"dataframe\">\n",
              "  <thead>\n",
              "    <tr style=\"text-align: right;\">\n",
              "      <th></th>\n",
              "      <th>Date</th>\n",
              "      <th>Open</th>\n",
              "      <th>High</th>\n",
              "      <th>Low</th>\n",
              "      <th>Close</th>\n",
              "      <th>Adj Close</th>\n",
              "      <th>Volume</th>\n",
              "    </tr>\n",
              "  </thead>\n",
              "  <tbody>\n",
              "    <tr>\n",
              "      <th>242</th>\n",
              "      <td>2021-05-21</td>\n",
              "      <td>33.000000</td>\n",
              "      <td>33.220001</td>\n",
              "      <td>32.700001</td>\n",
              "      <td>33.080002</td>\n",
              "      <td>32.665558</td>\n",
              "      <td>14726800.0</td>\n",
              "    </tr>\n",
              "    <tr>\n",
              "      <th>243</th>\n",
              "      <td>2021-05-24</td>\n",
              "      <td>32.939999</td>\n",
              "      <td>33.029999</td>\n",
              "      <td>32.779999</td>\n",
              "      <td>32.880001</td>\n",
              "      <td>32.880001</td>\n",
              "      <td>11099200.0</td>\n",
              "    </tr>\n",
              "    <tr>\n",
              "      <th>244</th>\n",
              "      <td>2021-05-25</td>\n",
              "      <td>32.939999</td>\n",
              "      <td>33.020000</td>\n",
              "      <td>32.209999</td>\n",
              "      <td>32.439999</td>\n",
              "      <td>32.439999</td>\n",
              "      <td>9570500.0</td>\n",
              "    </tr>\n",
              "    <tr>\n",
              "      <th>245</th>\n",
              "      <td>2021-05-26</td>\n",
              "      <td>32.590000</td>\n",
              "      <td>33.090000</td>\n",
              "      <td>32.259998</td>\n",
              "      <td>32.980000</td>\n",
              "      <td>32.980000</td>\n",
              "      <td>16118700.0</td>\n",
              "    </tr>\n",
              "    <tr>\n",
              "      <th>246</th>\n",
              "      <td>2021-05-27</td>\n",
              "      <td>32.939999</td>\n",
              "      <td>33.599998</td>\n",
              "      <td>32.689999</td>\n",
              "      <td>33.430000</td>\n",
              "      <td>33.430000</td>\n",
              "      <td>17922800.0</td>\n",
              "    </tr>\n",
              "  </tbody>\n",
              "</table>\n",
              "</div>"
            ],
            "text/plain": [
              "           Date       Open       High  ...      Close  Adj Close      Volume\n",
              "242  2021-05-21  33.000000  33.220001  ...  33.080002  32.665558  14726800.0\n",
              "243  2021-05-24  32.939999  33.029999  ...  32.880001  32.880001  11099200.0\n",
              "244  2021-05-25  32.939999  33.020000  ...  32.439999  32.439999   9570500.0\n",
              "245  2021-05-26  32.590000  33.090000  ...  32.980000  32.980000  16118700.0\n",
              "246  2021-05-27  32.939999  33.599998  ...  33.430000  33.430000  17922800.0\n",
              "\n",
              "[5 rows x 7 columns]"
            ]
          },
          "metadata": {
            "tags": []
          },
          "execution_count": 103
        }
      ]
    },
    {
      "cell_type": "code",
      "metadata": {
        "colab": {
          "base_uri": "https://localhost:8080/",
          "height": 328
        },
        "id": "cVU_uXECMx5r",
        "outputId": "c0617e97-3502-4848-8aed-e08b067bb578"
      },
      "source": [
        "df.tail(9)"
      ],
      "execution_count": null,
      "outputs": [
        {
          "output_type": "execute_result",
          "data": {
            "text/html": [
              "<div>\n",
              "<style scoped>\n",
              "    .dataframe tbody tr th:only-of-type {\n",
              "        vertical-align: middle;\n",
              "    }\n",
              "\n",
              "    .dataframe tbody tr th {\n",
              "        vertical-align: top;\n",
              "    }\n",
              "\n",
              "    .dataframe thead th {\n",
              "        text-align: right;\n",
              "    }\n",
              "</style>\n",
              "<table border=\"1\" class=\"dataframe\">\n",
              "  <thead>\n",
              "    <tr style=\"text-align: right;\">\n",
              "      <th></th>\n",
              "      <th>Date</th>\n",
              "      <th>Open</th>\n",
              "      <th>High</th>\n",
              "      <th>Low</th>\n",
              "      <th>Close</th>\n",
              "      <th>Adj Close</th>\n",
              "      <th>Volume</th>\n",
              "    </tr>\n",
              "  </thead>\n",
              "  <tbody>\n",
              "    <tr>\n",
              "      <th>238</th>\n",
              "      <td>2021-05-17</td>\n",
              "      <td>31.340000</td>\n",
              "      <td>31.860001</td>\n",
              "      <td>31.139999</td>\n",
              "      <td>31.709999</td>\n",
              "      <td>31.312719</td>\n",
              "      <td>12550500.0</td>\n",
              "    </tr>\n",
              "    <tr>\n",
              "      <th>239</th>\n",
              "      <td>2021-05-18</td>\n",
              "      <td>31.709999</td>\n",
              "      <td>32.369999</td>\n",
              "      <td>31.709999</td>\n",
              "      <td>32.150002</td>\n",
              "      <td>31.747210</td>\n",
              "      <td>14836600.0</td>\n",
              "    </tr>\n",
              "    <tr>\n",
              "      <th>240</th>\n",
              "      <td>2021-05-19</td>\n",
              "      <td>31.799999</td>\n",
              "      <td>32.799999</td>\n",
              "      <td>31.530001</td>\n",
              "      <td>32.700001</td>\n",
              "      <td>32.290318</td>\n",
              "      <td>14952800.0</td>\n",
              "    </tr>\n",
              "    <tr>\n",
              "      <th>241</th>\n",
              "      <td>2021-05-20</td>\n",
              "      <td>32.750000</td>\n",
              "      <td>33.000000</td>\n",
              "      <td>32.560001</td>\n",
              "      <td>32.799999</td>\n",
              "      <td>32.389065</td>\n",
              "      <td>17411700.0</td>\n",
              "    </tr>\n",
              "    <tr>\n",
              "      <th>242</th>\n",
              "      <td>2021-05-21</td>\n",
              "      <td>33.000000</td>\n",
              "      <td>33.220001</td>\n",
              "      <td>32.700001</td>\n",
              "      <td>33.080002</td>\n",
              "      <td>32.665558</td>\n",
              "      <td>14726800.0</td>\n",
              "    </tr>\n",
              "    <tr>\n",
              "      <th>243</th>\n",
              "      <td>2021-05-24</td>\n",
              "      <td>32.939999</td>\n",
              "      <td>33.029999</td>\n",
              "      <td>32.779999</td>\n",
              "      <td>32.880001</td>\n",
              "      <td>32.880001</td>\n",
              "      <td>11099200.0</td>\n",
              "    </tr>\n",
              "    <tr>\n",
              "      <th>244</th>\n",
              "      <td>2021-05-25</td>\n",
              "      <td>32.939999</td>\n",
              "      <td>33.020000</td>\n",
              "      <td>32.209999</td>\n",
              "      <td>32.439999</td>\n",
              "      <td>32.439999</td>\n",
              "      <td>9570500.0</td>\n",
              "    </tr>\n",
              "    <tr>\n",
              "      <th>245</th>\n",
              "      <td>2021-05-26</td>\n",
              "      <td>32.590000</td>\n",
              "      <td>33.090000</td>\n",
              "      <td>32.259998</td>\n",
              "      <td>32.980000</td>\n",
              "      <td>32.980000</td>\n",
              "      <td>16118700.0</td>\n",
              "    </tr>\n",
              "    <tr>\n",
              "      <th>246</th>\n",
              "      <td>2021-05-27</td>\n",
              "      <td>32.939999</td>\n",
              "      <td>33.599998</td>\n",
              "      <td>32.689999</td>\n",
              "      <td>33.430000</td>\n",
              "      <td>33.430000</td>\n",
              "      <td>17922800.0</td>\n",
              "    </tr>\n",
              "  </tbody>\n",
              "</table>\n",
              "</div>"
            ],
            "text/plain": [
              "           Date       Open       High  ...      Close  Adj Close      Volume\n",
              "238  2021-05-17  31.340000  31.860001  ...  31.709999  31.312719  12550500.0\n",
              "239  2021-05-18  31.709999  32.369999  ...  32.150002  31.747210  14836600.0\n",
              "240  2021-05-19  31.799999  32.799999  ...  32.700001  32.290318  14952800.0\n",
              "241  2021-05-20  32.750000  33.000000  ...  32.799999  32.389065  17411700.0\n",
              "242  2021-05-21  33.000000  33.220001  ...  33.080002  32.665558  14726800.0\n",
              "243  2021-05-24  32.939999  33.029999  ...  32.880001  32.880001  11099200.0\n",
              "244  2021-05-25  32.939999  33.020000  ...  32.439999  32.439999   9570500.0\n",
              "245  2021-05-26  32.590000  33.090000  ...  32.980000  32.980000  16118700.0\n",
              "246  2021-05-27  32.939999  33.599998  ...  33.430000  33.430000  17922800.0\n",
              "\n",
              "[9 rows x 7 columns]"
            ]
          },
          "metadata": {
            "tags": []
          },
          "execution_count": 104
        }
      ]
    },
    {
      "cell_type": "markdown",
      "metadata": {
        "id": "GLuYhDec-Dfs"
      },
      "source": [
        "Um dos motivos da popularidade do Pandas é por causa dessa capacidade de conseguir mostrar os dados como se estivessem em uma tabela, um formato bem amigável para a compreensão do nosso cérebro.\n",
        "\n",
        "Compare com aquela imagem lá em cima, do Excel. É um formato que estamos bem habituados a enxergar.\n",
        "\n",
        "Vamos supor que você precise extrair apenas os nomes das colunas do seu *DataFrame* - basta executar:"
      ]
    },
    {
      "cell_type": "code",
      "metadata": {
        "id": "8pHWD2yEwun0",
        "colab": {
          "base_uri": "https://localhost:8080/"
        },
        "outputId": "72d322ce-2f0d-4176-f6a7-fc0b94e9e23a"
      },
      "source": [
        "# ver os nomes das colunas\n",
        "df.columns"
      ],
      "execution_count": null,
      "outputs": [
        {
          "output_type": "execute_result",
          "data": {
            "text/plain": [
              "Index(['Date', 'Open', 'High', 'Low', 'Close', 'Adj Close', 'Volume'], dtype='object')"
            ]
          },
          "metadata": {
            "tags": []
          },
          "execution_count": 105
        }
      ]
    },
    {
      "cell_type": "markdown",
      "metadata": {
        "id": "GwuMplTsoc72"
      },
      "source": [
        "Conhecer o tipo de variável que está representado em cada coluna é essencial. Por exemplo:\n",
        "\n",
        "* Quando temos uma coluna que trata de receita, despesa ou lucro, é desejável que lidemos com variáveis do tipo `float`.\n",
        "* Quando estamos lidando com anos (2017, 2018, 2019), iremos desejar trabalhar com variáveis do tipo `int`.\n",
        "* Quanto temos datas completas (`2019-12-30 07:37`), iremos desejar usar o formato `datetime`, para conseguir manipular adequadamente o *dataset*.\n",
        "\n",
        "Para conhecer os tipos de variáveis de cada coluna, use `df.dtypes`."
      ]
    },
    {
      "cell_type": "code",
      "metadata": {
        "id": "HjIKHiIypOud",
        "colab": {
          "base_uri": "https://localhost:8080/"
        },
        "outputId": "7a402165-7e1c-4a19-b4c4-49fbfdc82fb7"
      },
      "source": [
        "df.dtypes"
      ],
      "execution_count": null,
      "outputs": [
        {
          "output_type": "execute_result",
          "data": {
            "text/plain": [
              "Date          object\n",
              "Open         float64\n",
              "High         float64\n",
              "Low          float64\n",
              "Close        float64\n",
              "Adj Close    float64\n",
              "Volume       float64\n",
              "dtype: object"
            ]
          },
          "metadata": {
            "tags": []
          },
          "execution_count": 106
        }
      ]
    },
    {
      "cell_type": "markdown",
      "metadata": {
        "id": "C0fYLIiKp4Xn"
      },
      "source": [
        "Uma outra maneira de descobrir o tipo das variáveis e ainda ver os valores ausentes nas células, é por meio do método `df.info()`.\n",
        "\n",
        "Veja como ele consegue retornar essas informações de maneira tabular."
      ]
    },
    {
      "cell_type": "code",
      "metadata": {
        "id": "Ty0cRNRDpWLn",
        "colab": {
          "base_uri": "https://localhost:8080/"
        },
        "outputId": "0afff6df-4356-4300-b3a6-e544d206724f"
      },
      "source": [
        "df.info()"
      ],
      "execution_count": null,
      "outputs": [
        {
          "output_type": "stream",
          "text": [
            "<class 'pandas.core.frame.DataFrame'>\n",
            "RangeIndex: 247 entries, 0 to 246\n",
            "Data columns (total 7 columns):\n",
            " #   Column     Non-Null Count  Dtype  \n",
            "---  ------     --------------  -----  \n",
            " 0   Date       247 non-null    object \n",
            " 1   Open       246 non-null    float64\n",
            " 2   High       246 non-null    float64\n",
            " 3   Low        246 non-null    float64\n",
            " 4   Close      246 non-null    float64\n",
            " 5   Adj Close  246 non-null    float64\n",
            " 6   Volume     246 non-null    float64\n",
            "dtypes: float64(6), object(1)\n",
            "memory usage: 13.6+ KB\n"
          ],
          "name": "stdout"
        }
      ]
    },
    {
      "cell_type": "markdown",
      "metadata": {
        "id": "6gqXaGSfwucC"
      },
      "source": [
        "### Selecionando colunas\n",
        "\n",
        "Há diversas maneiras de selecionar um sub-conjunto de dados em uma estrutura *DataFrame*.\n",
        "\n",
        "Na maioria dos casos, o que queremos fazer é selecionar apenas uma coluna de todo o *DataFrame*.\n",
        "\n",
        "Para selecionar uma variável, você deve colocar o nome da coluna entre colchetes, referenciando a variável onde os seus dados foram importados."
      ]
    },
    {
      "cell_type": "code",
      "metadata": {
        "id": "zkorkp4_wuRf",
        "colab": {
          "base_uri": "https://localhost:8080/"
        },
        "outputId": "1fd37f8a-bec2-4110-fa41-5cea9a2c13b1"
      },
      "source": [
        "# selecionar a variável (coluna) \"High\" da nossa variável df\n",
        "df[\"High\"]"
      ],
      "execution_count": null,
      "outputs": [
        {
          "output_type": "execute_result",
          "data": {
            "text/plain": [
              "0      31.459999\n",
              "1      30.850000\n",
              "2      32.150002\n",
              "3      32.900002\n",
              "4      35.000000\n",
              "         ...    \n",
              "242    33.220001\n",
              "243    33.029999\n",
              "244    33.020000\n",
              "245    33.090000\n",
              "246    33.599998\n",
              "Name: High, Length: 247, dtype: float64"
            ]
          },
          "metadata": {
            "tags": []
          },
          "execution_count": 108
        }
      ]
    },
    {
      "cell_type": "markdown",
      "metadata": {
        "id": "yBmCSgY5riu7"
      },
      "source": [
        "Caso o nome das coluna não contenha espaços em branco e caracteres especiais, você consegue selecionar ela de outra maneira (muito mais prática, na minha opinião).\n",
        "\n",
        "No lugar de `df[\"High\"]` você pode usar `df.High`, que terá o mesmo efeito."
      ]
    },
    {
      "cell_type": "code",
      "metadata": {
        "id": "tnh8IkUtr9S6",
        "colab": {
          "base_uri": "https://localhost:8080/"
        },
        "outputId": "6b0befc6-e363-4745-c6a4-31cb73e840a8"
      },
      "source": [
        "# selecionar a variável (coluna) \"High\" da nossa variável df\n",
        "df.High"
      ],
      "execution_count": null,
      "outputs": [
        {
          "output_type": "execute_result",
          "data": {
            "text/plain": [
              "0      31.459999\n",
              "1      30.850000\n",
              "2      32.150002\n",
              "3      32.900002\n",
              "4      35.000000\n",
              "         ...    \n",
              "242    33.220001\n",
              "243    33.029999\n",
              "244    33.020000\n",
              "245    33.090000\n",
              "246    33.599998\n",
              "Name: High, Length: 247, dtype: float64"
            ]
          },
          "metadata": {
            "tags": []
          },
          "execution_count": 109
        }
      ]
    },
    {
      "cell_type": "markdown",
      "metadata": {
        "id": "rro80XstwuFi"
      },
      "source": [
        "### Calculando a média de uma coluna\n",
        "\n",
        "Quando executamos o código `df.High`, você viu acima que foi impressa apenas a coluna de valores `High`. Para encontrar a média desses valores, basta utilizar `df.High.mean()`."
      ]
    },
    {
      "cell_type": "code",
      "metadata": {
        "id": "drcpq2FXwt5w",
        "colab": {
          "base_uri": "https://localhost:8080/"
        },
        "outputId": "5bd04db8-d046-4bb8-d702-212da185502d"
      },
      "source": [
        "# calcular a média da coluna \"High\"\n",
        "df.High.mean()"
      ],
      "execution_count": null,
      "outputs": [
        {
          "output_type": "execute_result",
          "data": {
            "text/plain": [
              "33.442317199187"
            ]
          },
          "metadata": {
            "tags": []
          },
          "execution_count": 110
        }
      ]
    },
    {
      "cell_type": "markdown",
      "metadata": {
        "id": "qlAqNkaOwtug"
      },
      "source": [
        "Isso significa que a média dos valores da coluna `High` é `33.442317199187`. Como vamos ver ao longo do curso, existem muitas outras medidas importantes."
      ]
    },
    {
      "cell_type": "code",
      "metadata": {
        "colab": {
          "base_uri": "https://localhost:8080/"
        },
        "id": "kTWpHZZVNk2a",
        "outputId": "57be91da-7e90-431f-ad06-37096bc414cf"
      },
      "source": [
        "df.Open.mean()"
      ],
      "execution_count": null,
      "outputs": [
        {
          "output_type": "execute_result",
          "data": {
            "text/plain": [
              "32.935934902439016"
            ]
          },
          "metadata": {
            "tags": []
          },
          "execution_count": 111
        }
      ]
    },
    {
      "cell_type": "code",
      "metadata": {
        "colab": {
          "base_uri": "https://localhost:8080/"
        },
        "id": "OBJh33eGNv1S",
        "outputId": "01f6831b-f34e-48bc-8c67-b9a440511464"
      },
      "source": [
        "df.Close.mean()"
      ],
      "execution_count": null,
      "outputs": [
        {
          "output_type": "execute_result",
          "data": {
            "text/plain": [
              "32.88605688617887"
            ]
          },
          "metadata": {
            "tags": []
          },
          "execution_count": 112
        }
      ]
    },
    {
      "cell_type": "code",
      "metadata": {
        "colab": {
          "base_uri": "https://localhost:8080/"
        },
        "id": "FCjsJDWhN7BY",
        "outputId": "905e1329-8921-47c0-e020-fcfa754c60ca"
      },
      "source": [
        "df.Close.min()"
      ],
      "execution_count": null,
      "outputs": [
        {
          "output_type": "execute_result",
          "data": {
            "text/plain": [
              "27.860001"
            ]
          },
          "metadata": {
            "tags": []
          },
          "execution_count": 113
        }
      ]
    },
    {
      "cell_type": "code",
      "metadata": {
        "colab": {
          "base_uri": "https://localhost:8080/",
          "height": 204
        },
        "id": "3CsGSA-AOB8C",
        "outputId": "da71dfaf-5ec7-48de-c0f1-31f39062b32f"
      },
      "source": [
        "df.head(5)"
      ],
      "execution_count": null,
      "outputs": [
        {
          "output_type": "execute_result",
          "data": {
            "text/html": [
              "<div>\n",
              "<style scoped>\n",
              "    .dataframe tbody tr th:only-of-type {\n",
              "        vertical-align: middle;\n",
              "    }\n",
              "\n",
              "    .dataframe tbody tr th {\n",
              "        vertical-align: top;\n",
              "    }\n",
              "\n",
              "    .dataframe thead th {\n",
              "        text-align: right;\n",
              "    }\n",
              "</style>\n",
              "<table border=\"1\" class=\"dataframe\">\n",
              "  <thead>\n",
              "    <tr style=\"text-align: right;\">\n",
              "      <th></th>\n",
              "      <th>Date</th>\n",
              "      <th>Open</th>\n",
              "      <th>High</th>\n",
              "      <th>Low</th>\n",
              "      <th>Close</th>\n",
              "      <th>Adj Close</th>\n",
              "      <th>Volume</th>\n",
              "    </tr>\n",
              "  </thead>\n",
              "  <tbody>\n",
              "    <tr>\n",
              "      <th>0</th>\n",
              "      <td>2020-05-28</td>\n",
              "      <td>30.610001</td>\n",
              "      <td>31.459999</td>\n",
              "      <td>30.209999</td>\n",
              "      <td>30.790001</td>\n",
              "      <td>29.048223</td>\n",
              "      <td>20732700.0</td>\n",
              "    </tr>\n",
              "    <tr>\n",
              "      <th>1</th>\n",
              "      <td>2020-05-29</td>\n",
              "      <td>30.500000</td>\n",
              "      <td>30.850000</td>\n",
              "      <td>29.750000</td>\n",
              "      <td>30.840000</td>\n",
              "      <td>29.095390</td>\n",
              "      <td>26926700.0</td>\n",
              "    </tr>\n",
              "    <tr>\n",
              "      <th>2</th>\n",
              "      <td>2020-06-01</td>\n",
              "      <td>30.770000</td>\n",
              "      <td>32.150002</td>\n",
              "      <td>30.559999</td>\n",
              "      <td>31.799999</td>\n",
              "      <td>30.001083</td>\n",
              "      <td>22043600.0</td>\n",
              "    </tr>\n",
              "    <tr>\n",
              "      <th>3</th>\n",
              "      <td>2020-06-02</td>\n",
              "      <td>32.599998</td>\n",
              "      <td>32.900002</td>\n",
              "      <td>32.279999</td>\n",
              "      <td>32.820000</td>\n",
              "      <td>30.963381</td>\n",
              "      <td>15772200.0</td>\n",
              "    </tr>\n",
              "    <tr>\n",
              "      <th>4</th>\n",
              "      <td>2020-06-03</td>\n",
              "      <td>34.470001</td>\n",
              "      <td>35.000000</td>\n",
              "      <td>33.840000</td>\n",
              "      <td>34.750000</td>\n",
              "      <td>32.784206</td>\n",
              "      <td>29497200.0</td>\n",
              "    </tr>\n",
              "  </tbody>\n",
              "</table>\n",
              "</div>"
            ],
            "text/plain": [
              "         Date       Open       High  ...      Close  Adj Close      Volume\n",
              "0  2020-05-28  30.610001  31.459999  ...  30.790001  29.048223  20732700.0\n",
              "1  2020-05-29  30.500000  30.850000  ...  30.840000  29.095390  26926700.0\n",
              "2  2020-06-01  30.770000  32.150002  ...  31.799999  30.001083  22043600.0\n",
              "3  2020-06-02  32.599998  32.900002  ...  32.820000  30.963381  15772200.0\n",
              "4  2020-06-03  34.470001  35.000000  ...  34.750000  32.784206  29497200.0\n",
              "\n",
              "[5 rows x 7 columns]"
            ]
          },
          "metadata": {
            "tags": []
          },
          "execution_count": 114
        }
      ]
    },
    {
      "cell_type": "code",
      "metadata": {
        "colab": {
          "base_uri": "https://localhost:8080/"
        },
        "id": "HJTr0N3uORkV",
        "outputId": "1c30dda8-88ea-4f8c-c1c4-acf12c853b54"
      },
      "source": [
        "df.Close.max()"
      ],
      "execution_count": null,
      "outputs": [
        {
          "output_type": "execute_result",
          "data": {
            "text/plain": [
              "39.790001000000004"
            ]
          },
          "metadata": {
            "tags": []
          },
          "execution_count": 115
        }
      ]
    },
    {
      "cell_type": "markdown",
      "metadata": {
        "id": "QG_6v5yTnzqx"
      },
      "source": [
        "## Trabalhando com datas (`datetime`)\n",
        "\n",
        "Quando você importar um arquivo que tenha datas, provavelmente o Pandas não irá reconhecer as mesmas de maneira automática.\n",
        "\n",
        "Quando você checou `df.info()`, viu que a coluna `Date` estava como `object`. No caso, ela é apenas texto (`string`) e não permite a extração de muita coisa útil.\n",
        "\n",
        "Vamos converter a coluna usando `pd.to_datetime` e informando qual o formato da nossa data."
      ]
    },
    {
      "cell_type": "code",
      "metadata": {
        "id": "SBoh5heIvYxg",
        "colab": {
          "base_uri": "https://localhost:8080/"
        },
        "outputId": "fb6d985c-7e25-4410-e866-5e2fe96d5eb0"
      },
      "source": [
        "# antes como objeto\n",
        "df.Date"
      ],
      "execution_count": null,
      "outputs": [
        {
          "output_type": "execute_result",
          "data": {
            "text/plain": [
              "0      2020-05-28\n",
              "1      2020-05-29\n",
              "2      2020-06-01\n",
              "3      2020-06-02\n",
              "4      2020-06-03\n",
              "          ...    \n",
              "242    2021-05-21\n",
              "243    2021-05-24\n",
              "244    2021-05-25\n",
              "245    2021-05-26\n",
              "246    2021-05-27\n",
              "Name: Date, Length: 247, dtype: object"
            ]
          },
          "metadata": {
            "tags": []
          },
          "execution_count": 116
        }
      ]
    },
    {
      "cell_type": "code",
      "metadata": {
        "id": "90EfusqfvPtF"
      },
      "source": [
        "# converter coluna Date em datetime\n",
        "df.Date = pd.to_datetime(df.Date, format=\"%Y-%m-%d\")"
      ],
      "execution_count": null,
      "outputs": []
    },
    {
      "cell_type": "code",
      "metadata": {
        "id": "CIyF3LROvjhs",
        "colab": {
          "base_uri": "https://localhost:8080/"
        },
        "outputId": "431f33a4-a4e1-493f-8ef8-7bdefc538250"
      },
      "source": [
        "# depois\n",
        "df.Date"
      ],
      "execution_count": null,
      "outputs": [
        {
          "output_type": "execute_result",
          "data": {
            "text/plain": [
              "0     2020-05-28\n",
              "1     2020-05-29\n",
              "2     2020-06-01\n",
              "3     2020-06-02\n",
              "4     2020-06-03\n",
              "         ...    \n",
              "242   2021-05-21\n",
              "243   2021-05-24\n",
              "244   2021-05-25\n",
              "245   2021-05-26\n",
              "246   2021-05-27\n",
              "Name: Date, Length: 247, dtype: datetime64[ns]"
            ]
          },
          "metadata": {
            "tags": []
          },
          "execution_count": 118
        }
      ]
    },
    {
      "cell_type": "markdown",
      "metadata": {
        "id": "4ZY1LxSLvqEl"
      },
      "source": [
        "Olhe como agora eu consigo acessar apenas os componentes de uma data, individualmente, usando `df.Date.dt`"
      ]
    },
    {
      "cell_type": "code",
      "metadata": {
        "id": "BWhWxO9jv2W3",
        "colab": {
          "base_uri": "https://localhost:8080/"
        },
        "outputId": "906ab8ac-dd2d-4436-c529-2eaaba004aab"
      },
      "source": [
        "df.Date.dt.year"
      ],
      "execution_count": null,
      "outputs": [
        {
          "output_type": "execute_result",
          "data": {
            "text/plain": [
              "0      2020\n",
              "1      2020\n",
              "2      2020\n",
              "3      2020\n",
              "4      2020\n",
              "       ... \n",
              "242    2021\n",
              "243    2021\n",
              "244    2021\n",
              "245    2021\n",
              "246    2021\n",
              "Name: Date, Length: 247, dtype: int64"
            ]
          },
          "metadata": {
            "tags": []
          },
          "execution_count": 119
        }
      ]
    },
    {
      "cell_type": "code",
      "metadata": {
        "id": "yPg-cHLUwJkT",
        "colab": {
          "base_uri": "https://localhost:8080/"
        },
        "outputId": "09d844f1-d34d-43f6-a03f-3cf73c8a9c55"
      },
      "source": [
        "df.Date.dt.month"
      ],
      "execution_count": null,
      "outputs": [
        {
          "output_type": "execute_result",
          "data": {
            "text/plain": [
              "0      5\n",
              "1      5\n",
              "2      6\n",
              "3      6\n",
              "4      6\n",
              "      ..\n",
              "242    5\n",
              "243    5\n",
              "244    5\n",
              "245    5\n",
              "246    5\n",
              "Name: Date, Length: 247, dtype: int64"
            ]
          },
          "metadata": {
            "tags": []
          },
          "execution_count": 120
        }
      ]
    },
    {
      "cell_type": "code",
      "metadata": {
        "id": "dKiwxM56wHAb",
        "colab": {
          "base_uri": "https://localhost:8080/"
        },
        "outputId": "8b8dffd0-7f8f-46f7-dc3f-b77e68ccc4d7"
      },
      "source": [
        "df.Date.dt.day"
      ],
      "execution_count": null,
      "outputs": [
        {
          "output_type": "execute_result",
          "data": {
            "text/plain": [
              "0      28\n",
              "1      29\n",
              "2       1\n",
              "3       2\n",
              "4       3\n",
              "       ..\n",
              "242    21\n",
              "243    24\n",
              "244    25\n",
              "245    26\n",
              "246    27\n",
              "Name: Date, Length: 247, dtype: int64"
            ]
          },
          "metadata": {
            "tags": []
          },
          "execution_count": 121
        }
      ]
    },
    {
      "cell_type": "code",
      "metadata": {
        "colab": {
          "base_uri": "https://localhost:8080/"
        },
        "id": "pcM_XB2TPujm",
        "outputId": "fd1d91fd-1475-4741-c9be-2903cc3450d2"
      },
      "source": [
        "df.Date.dt.weekday"
      ],
      "execution_count": null,
      "outputs": [
        {
          "output_type": "execute_result",
          "data": {
            "text/plain": [
              "0      3\n",
              "1      4\n",
              "2      0\n",
              "3      1\n",
              "4      2\n",
              "      ..\n",
              "242    4\n",
              "243    0\n",
              "244    1\n",
              "245    2\n",
              "246    3\n",
              "Name: Date, Length: 247, dtype: int64"
            ]
          },
          "metadata": {
            "tags": []
          },
          "execution_count": 122
        }
      ]
    },
    {
      "cell_type": "code",
      "metadata": {
        "colab": {
          "base_uri": "https://localhost:8080/"
        },
        "id": "Cn4aGZ3DQBKP",
        "outputId": "331aeec8-d588-45a1-d24d-80bf3eb783a2"
      },
      "source": [
        "df.Date.dt.weekofyear"
      ],
      "execution_count": null,
      "outputs": [
        {
          "output_type": "stream",
          "text": [
            "/usr/local/lib/python3.7/dist-packages/ipykernel_launcher.py:1: FutureWarning: Series.dt.weekofyear and Series.dt.week have been deprecated.  Please use Series.dt.isocalendar().week instead.\n",
            "  \"\"\"Entry point for launching an IPython kernel.\n"
          ],
          "name": "stderr"
        },
        {
          "output_type": "execute_result",
          "data": {
            "text/plain": [
              "0      22\n",
              "1      22\n",
              "2      23\n",
              "3      23\n",
              "4      23\n",
              "       ..\n",
              "242    20\n",
              "243    21\n",
              "244    21\n",
              "245    21\n",
              "246    21\n",
              "Name: Date, Length: 247, dtype: int64"
            ]
          },
          "metadata": {
            "tags": []
          },
          "execution_count": 123
        }
      ]
    },
    {
      "cell_type": "markdown",
      "metadata": {
        "id": "dHzx3aWXvIG2"
      },
      "source": [
        "\n",
        "No entanto, há vários formatos que um usuário pode lançar como sendo datas. Você pode encontrar exemplos como:\n",
        "\n",
        "* 31/06/15\n",
        "* 31/06/2015\n",
        "* 31-6-15\n",
        "* 2015-6-31\n",
        "* 31 de junho de 2015\n",
        "\n",
        "Para lidar com tudo isso, você vai ter que entender a documentação. Seguem dois links que serão úteis para isso:\n",
        "\n",
        "* https://pandas.pydata.org/docs/reference/api/pandas.to_datetime.html?highlight=to_datetime#pandas.to_datetime\n",
        "* https://docs.python.org/3/library/datetime.html#strftime-and-strptime-behavior"
      ]
    }
  ]
}