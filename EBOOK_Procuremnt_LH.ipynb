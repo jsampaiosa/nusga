{
  "nbformat": 4,
  "nbformat_minor": 0,
  "metadata": {
    "colab": {
      "name": "EBOOK Procuremnt LH.ipynb",
      "provenance": [],
      "collapsed_sections": [],
      "toc_visible": true,
      "include_colab_link": true
    },
    "kernelspec": {
      "name": "python3",
      "display_name": "Python 3"
    }
  },
  "cells": [
    {
      "cell_type": "markdown",
      "metadata": {
        "id": "view-in-github",
        "colab_type": "text"
      },
      "source": [
        "<a href=\"https://colab.research.google.com/github/jsampaiosa/nusga/blob/main/EBOOK_Procuremnt_LH.ipynb\" target=\"_parent\"><img src=\"https://colab.research.google.com/assets/colab-badge.svg\" alt=\"Open In Colab\"/></a>"
      ]
    },
    {
      "cell_type": "markdown",
      "metadata": {
        "id": "dy92aaZbC74S"
      },
      "source": [
        "<center><img alt=\"Colaboratory logo\" width=\"15%\" src=\"https://media-exp1.licdn.com/dms/image/C4D0BAQErXPmEyP_6yg/company-logo_200_200/0/1570721261634?e=1629936000&v=beta&t=fdR8Gx-XntAJ1JkL0XUPhvvOPv4xCvDVuSL6zMNxeJI\"><center>\n",
        "\n",
        "#### **INDICADORES DE SUPRIMENTOS**\n",
        "*by [lafargeholcim.com.br](https://lafargeholcim.com.br)*\n",
        "\n",
        "---\n",
        "\n",
        "<h1>Indicadores Estratégicos, Táticos e Operacionais, </h1>\n",
        "\n",
        "\n",
        "Bem vindo ao e-book de **Suprimentos**, através desse documento mensal, você terá acesso a tudo que rola na área. \n",
        "\n",
        "Trabalhamos para que a sua experiencia seja o menos trabalhosa possível e que você encontre tudo que precisa acompanhar com poucos clicks. \n",
        "<center><img alt=\"Colaboratory logo\" width=\"5%\" src=\"https://aspectodecor.com.br/wp-content/uploads/2020/04/click.png\"><center>\n"
      ]
    },
    {
      "cell_type": "markdown",
      "metadata": {
        "id": "qu1163PKZnJX"
      },
      "source": [
        "\n",
        "\n",
        "#Equipes\n",
        "\n",
        "Imagem do organograma\n",
        "\n"
      ]
    },
    {
      "cell_type": "markdown",
      "metadata": {
        "id": "TU3QmvBTELE4"
      },
      "source": [
        "# Tipos de Indicadores\n",
        "\n",
        "\n",
        "\n",
        "## **Estratégico:**\n",
        "\n",
        "\n",
        "\n",
        "Os indicadores estratégicos estão diretamente ligados ao planejamento estratégico do setor. Estão relacionados à missão, propósito e à visão estabelecidos. Para 2021 acordamos a entrega de **CHF 7 milhões**.\n",
        "\n",
        "---\n",
        "\n",
        "##**Tático:**\n",
        "\n",
        "\n",
        "\n",
        "Os planos táticos nada mais são do que planos de ação que cada área elabora para traçar as ações e projetos que devem realizar para contribuir com o plano estratégico da empresa.\n",
        "\n",
        "A partir dessas ações são estipuladas metas e os indicadores táticos para medi-las.\n",
        "\n",
        "---\n",
        "\n",
        "##**Operacional:**\n",
        "\n",
        "\n",
        "Normalmente são de curto prazo e que são ligados a processos operacionais da empresa. Costumam envolver colaboradores de todos os níveis da companhia, engajando cada indivíduo que pode contribuir com os objetivos estratégicos da organização.\n",
        "\n",
        "Isso implica dizer que todos na sua empresa podem ter um indicador para medir o desempenho."
      ]
    },
    {
      "cell_type": "markdown",
      "metadata": {
        "id": "QuIx7Szv1m3_"
      },
      "source": [
        "# Indicadores Estratégicos\n",
        "\n",
        "##Quais?\n",
        "\n",
        "*   Spend tratado vs planejado\n",
        "*   Saving adquirido vs planejado\n",
        "*   Andamento das iniciativas\n",
        "*   Nível de crescimento por mês e trimestre\n",
        "*   Nível de crescimento por cluster\n",
        "\n",
        "##Como?\n",
        "Mensalmente as equipes da Lafargeholcim (Brasil) S.A preenchem o google drive \"ssss\" e atualizam os dados de \n",
        "* Qual é a métrica de performance?\n",
        "* Qual a performance mínima esperada para atingir o objetivo?\n",
        "\n",
        "##Onde?\n",
        "Todos os dados usados aqui foram obtidos a partir do google drive compartilhado regionalmente para todos os países da **LATAM.**\n",
        "\n",
        "##Meta:\n",
        "xxx\n",
        "\n",
        "\n",
        "\n"
      ]
    },
    {
      "cell_type": "markdown",
      "metadata": {
        "id": "tGzb2hXD3bnP"
      },
      "source": [
        "# Indicadores Táticos\n",
        "\n",
        "\n",
        "##QUAIS?\n",
        "\n",
        "##COMO?\n",
        "\n",
        "##ONDE?"
      ]
    },
    {
      "cell_type": "markdown",
      "metadata": {
        "id": "l9v4CZX154Gt"
      },
      "source": [
        "# Indicadores Operacionais\n",
        "\n",
        "\n",
        "##QUAIS?\n",
        "\n",
        "##COMO?\n",
        "\n",
        "##ONDE?"
      ]
    },
    {
      "cell_type": "markdown",
      "metadata": {
        "id": "KzLcEOIPhp6A"
      },
      "source": [
        "# Dicionário de variáveis\n",
        "\n",
        "O que significa cada coluna do google drive e demais campos informados\n",
        "Importante para que o leitor se situe "
      ]
    },
    {
      "cell_type": "markdown",
      "metadata": {
        "id": "D7Mm5YuCkGGo"
      },
      "source": [
        "# Check list\n",
        "https://colab.research.google.com/drive/134CH7W3eTXvDrNoY9cI13Vnsg24JqSjh#scrollTo=NE5YZCJUUk8c"
      ]
    },
    {
      "cell_type": "markdown",
      "metadata": {
        "id": "0wL6lbqgpdSQ"
      },
      "source": [
        "##Além de indicadores"
      ]
    }
  ]
}