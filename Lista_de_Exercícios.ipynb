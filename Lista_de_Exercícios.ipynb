{
  "nbformat": 4,
  "nbformat_minor": 0,
  "metadata": {
    "colab": {
      "name": "Lista de Exercícios.ipynb",
      "provenance": [],
      "collapsed_sections": [],
      "include_colab_link": true
    },
    "kernelspec": {
      "name": "python3",
      "display_name": "Python 3"
    }
  },
  "cells": [
    {
      "cell_type": "markdown",
      "metadata": {
        "id": "view-in-github",
        "colab_type": "text"
      },
      "source": [
        "<a href=\"https://colab.research.google.com/github/jsampaiosa/nusga/blob/main/Lista_de_Exerc%C3%ADcios.ipynb\" target=\"_parent\"><img src=\"https://colab.research.google.com/assets/colab-badge.svg\" alt=\"Open In Colab\"/></a>"
      ]
    },
    {
      "cell_type": "markdown",
      "metadata": {
        "id": "XRSYHKXEQGOL"
      },
      "source": [
        "<center><img alt=\"Colaboratory logo\" width=\"10%\" src=\"https://nusga.com.br/wp-content/uploads/2021/01/cropped-cropped-cropped-Logo-2-1.png\"><center>\n",
        "\n",
        "#### <CENTER><H1>**NUSGA**<H1><CENTER>\n",
        "*by [nusga.com.br](https://nusga.com.br)*<CENTER>\n",
        "\n",
        "---"
      ]
    },
    {
      "cell_type": "markdown",
      "metadata": {
        "id": "vvplGyW2N3rX"
      },
      "source": [
        "# Lista de Exercícios\n",
        "\n",
        "A lista de exercícios tem por objetivo colocar a mão na massa e relembrar os conceitos que foram passados nas aulas anteriores.\n",
        "\n",
        "Optei por não necessariamente seguir a sequencia das aulas, colocando os exercícios "
      ]
    },
    {
      "cell_type": "markdown",
      "metadata": {
        "id": "9GQoXiddIpr9"
      },
      "source": [
        "## Exercício 1\n",
        "\n",
        "* Importar o pacote Pandas\n",
        "* importar os dados de ocorrências da aviação civil neste link\n",
        "* Ver qual o tamanho (linhas x colunas) do *DataFrame*\n",
        "* Verificar as 5 primeiras "
      ]
    },
    {
      "cell_type": "markdown",
      "metadata": {
        "id": "hdRXuNktKw9p"
      },
      "source": [
        "**Importe o Pandas e importe os dados de ocorrências da aviação civil que se encontram em `csv` [neste link](https://raw.githubusercontent.com/carlosfab/dsnp2/master/datasets/ocorrencias_aviacao.csv).**"
      ]
    },
    {
      "cell_type": "code",
      "metadata": {
        "id": "8TpD5o8MLMaV"
      },
      "source": [
        ""
      ],
      "execution_count": null,
      "outputs": []
    },
    {
      "cell_type": "code",
      "metadata": {
        "id": "IXrHqpl9LoW2",
        "cellView": "form"
      },
      "source": [
        "#@title\n",
        "# importar pandas\n",
        "import pandas as pd\n",
        "\n",
        "# importar dados\n",
        "df = pd.read_csv(\"https://raw.githubusercontent.com/carlosfab/dsnp2/master/datasets/ocorrencias_aviacao.csv\")"
      ],
      "execution_count": null,
      "outputs": []
    },
    {
      "cell_type": "markdown",
      "metadata": {
        "id": "Tf8ScLP9LRjq"
      },
      "source": [
        "**Veja qual o tamanho (linhas e colunas) do conjunto de dados importado.**"
      ]
    },
    {
      "cell_type": "code",
      "metadata": {
        "id": "vGsqOw52LnKZ"
      },
      "source": [
        ""
      ],
      "execution_count": null,
      "outputs": []
    },
    {
      "cell_type": "code",
      "metadata": {
        "id": "NHsUQKI7L6te",
        "cellView": "form"
      },
      "source": [
        "#@title\n",
        "df.shape"
      ],
      "execution_count": null,
      "outputs": []
    },
    {
      "cell_type": "markdown",
      "metadata": {
        "id": "OvvxJlZXL-BH"
      },
      "source": [
        "**Identifique o tipo de cada coluna (inteiro, float, object).**"
      ]
    },
    {
      "cell_type": "code",
      "metadata": {
        "id": "MjAmdNplMOMJ"
      },
      "source": [
        ""
      ],
      "execution_count": null,
      "outputs": []
    },
    {
      "cell_type": "code",
      "metadata": {
        "id": "FWBMMmJ0MPnj",
        "cellView": "form"
      },
      "source": [
        "#@title\n",
        "df.dtypes"
      ],
      "execution_count": null,
      "outputs": []
    },
    {
      "cell_type": "markdown",
      "metadata": {
        "id": "ew5bo-eZMTCZ"
      },
      "source": [
        "**Veja as 3 primeiras entradas do conjunto de dados.**"
      ]
    },
    {
      "cell_type": "code",
      "metadata": {
        "id": "e1xx_cXFMaM2"
      },
      "source": [
        ""
      ],
      "execution_count": null,
      "outputs": []
    },
    {
      "cell_type": "code",
      "metadata": {
        "id": "yPAP4h5wMa24",
        "cellView": "form"
      },
      "source": [
        "#@title\n",
        "df.head(3)"
      ],
      "execution_count": null,
      "outputs": []
    },
    {
      "cell_type": "markdown",
      "metadata": {
        "id": "p_2rj-KqMbtA"
      },
      "source": [
        "**Veja quantos valores únicos existem para a coluna `ocorrencia_classificacao`**"
      ]
    },
    {
      "cell_type": "code",
      "metadata": {
        "id": "DVtxiIREMnnV"
      },
      "source": [
        ""
      ],
      "execution_count": null,
      "outputs": []
    },
    {
      "cell_type": "code",
      "metadata": {
        "id": "Om6rX4OLMoAS",
        "cellView": "form"
      },
      "source": [
        "#@title\n",
        "df.ocorrencia_classificacao.unique()"
      ],
      "execution_count": null,
      "outputs": []
    },
    {
      "cell_type": "markdown",
      "metadata": {
        "id": "ZoUq8qxPMqPj"
      },
      "source": [
        "**Descubra qual Estado possui o maior número de ocorrências com aeronaves civis.**"
      ]
    },
    {
      "cell_type": "code",
      "metadata": {
        "id": "Fdin50sWM29y"
      },
      "source": [
        ""
      ],
      "execution_count": null,
      "outputs": []
    },
    {
      "cell_type": "code",
      "metadata": {
        "id": "p1zFI2MnM_I7",
        "cellView": "form"
      },
      "source": [
        "#@title\n",
        "# a resposta é SP, com 1.207 ocorrências\n",
        "df.ocorrencia_uf.value_counts()"
      ],
      "execution_count": null,
      "outputs": []
    },
    {
      "cell_type": "markdown",
      "metadata": {
        "id": "jaE4lKoMNDNG"
      },
      "source": [
        "**Quantos por cento das ocorrências são do tipo `FALHA DO MOTOR EM VOO`?**"
      ]
    },
    {
      "cell_type": "code",
      "metadata": {
        "id": "MZNDxepbNqFr"
      },
      "source": [
        ""
      ],
      "execution_count": null,
      "outputs": []
    },
    {
      "cell_type": "code",
      "metadata": {
        "id": "RM8bxW-MNqd8",
        "cellView": "form"
      },
      "source": [
        "#@title\n",
        "df.loc[df.ocorrencia_tipo == \"FALHA DO MOTOR EM VOO\"].shape[0] / df.shape[0]"
      ],
      "execution_count": null,
      "outputs": []
    },
    {
      "cell_type": "markdown",
      "metadata": {
        "id": "BZCNVc1NOVeb"
      },
      "source": [
        "## Exercício 2\n",
        "\n",
        "Você irá trabalhar agora com os dados da ação BBAS3, do Banco do Brasil na BOVESPA.\n",
        "\n",
        "Na variável `df_bbas3`, foi importado [este arquivo `csv`](https://raw.githubusercontent.com/carlosfab/dsnp2/master/datasets/BBAS3.SA.csv), onde o *index* do *DataFrame* representa os valores da ação para determinado dia. Responda as perguntas abaixo."
      ]
    },
    {
      "cell_type": "code",
      "metadata": {
        "id": "4XZI_FjDPFsR"
      },
      "source": [
        "# importar pandas\n",
        "import pandas as pd\n",
        "\n",
        "# importar o csv com dados da BBAS3\n",
        "df_bbas3 = pd.read_csv(\"https://raw.githubusercontent.com/carlosfab/dsnp2/master/datasets/BBAS3.SA.csv\",\n",
        "                       index_col=\"Date\")"
      ],
      "execution_count": null,
      "outputs": []
    },
    {
      "cell_type": "markdown",
      "metadata": {
        "id": "j5gGguY3P67Q"
      },
      "source": [
        "**Veja as 5 primeiras entradas da variável `df_bbas3`.**"
      ]
    },
    {
      "cell_type": "code",
      "metadata": {
        "id": "MlGjWTeXQEB3"
      },
      "source": [
        ""
      ],
      "execution_count": null,
      "outputs": []
    },
    {
      "cell_type": "code",
      "metadata": {
        "id": "vRCeUP_lQGai",
        "cellView": "form"
      },
      "source": [
        "#@title\n",
        "df_bbas3.head()"
      ],
      "execution_count": null,
      "outputs": []
    },
    {
      "cell_type": "markdown",
      "metadata": {
        "id": "O3tTLDfTQTGZ"
      },
      "source": [
        "**Quais são os valores da ação para o dia 04 de outubro de 2019?**"
      ]
    },
    {
      "cell_type": "code",
      "metadata": {
        "id": "kPSOenAuQj81"
      },
      "source": [
        ""
      ],
      "execution_count": null,
      "outputs": []
    },
    {
      "cell_type": "code",
      "metadata": {
        "id": "70QKSq2yQmCm",
        "cellView": "form"
      },
      "source": [
        "#@title\n",
        "df_bbas3.loc[\"2019-10-04\"]"
      ],
      "execution_count": null,
      "outputs": []
    },
    {
      "cell_type": "markdown",
      "metadata": {
        "id": "PRZtV761Qr0-"
      },
      "source": [
        "**Qual a média do Volume financeiro movimentado em todo o período?**"
      ]
    },
    {
      "cell_type": "code",
      "metadata": {
        "id": "n-vZleQPEGey"
      },
      "source": [
        ""
      ],
      "execution_count": null,
      "outputs": []
    },
    {
      "cell_type": "code",
      "metadata": {
        "id": "UUhGYf2YEPEo",
        "cellView": "form"
      },
      "source": [
        "#@title\n",
        "df_bbas3.Volume.mean()"
      ],
      "execution_count": null,
      "outputs": []
    },
    {
      "cell_type": "markdown",
      "metadata": {
        "id": "_pO0tCV1EdD0"
      },
      "source": [
        "## Exercício 3\n",
        "\n",
        "Você irá trabalhar agora com os dados do projeto +BIKE, usado em aulas passadas.\n",
        "\n",
        "Na variável df_bike, foi importado [este arquivo csv](http://dl.dropboxusercontent.com/s/yyfeoxqw61o3iel/df_rides.csv).\n",
        "\n"
      ]
    },
    {
      "cell_type": "code",
      "metadata": {
        "id": "YFvJfTuVE0da"
      },
      "source": [
        "# importar pandas\n",
        "import pandas as pd\n",
        "\n",
        "# importar o csv com dados da BBAS3\n",
        "df_bike = pd.read_csv(\"http://dl.dropboxusercontent.com/s/yyfeoxqw61o3iel/df_rides.csv\")\n",
        "\n",
        "# ver as primeiras entradas\n",
        "df_bike.head()"
      ],
      "execution_count": null,
      "outputs": []
    },
    {
      "cell_type": "markdown",
      "metadata": {
        "id": "sj3lwZctE7KP"
      },
      "source": [
        "**Qual a porcentagem de valores ausentes para a coluna `user_gender`?**\n"
      ]
    },
    {
      "cell_type": "code",
      "metadata": {
        "id": "g8GJ7kgLFEbr"
      },
      "source": [
        ""
      ],
      "execution_count": null,
      "outputs": []
    },
    {
      "cell_type": "code",
      "metadata": {
        "id": "zqVDxelCFTAd",
        "cellView": "form"
      },
      "source": [
        "#@title\n",
        "df_bike.user_gender.isnull().sum() / df_bike.shape[0]"
      ],
      "execution_count": null,
      "outputs": []
    },
    {
      "cell_type": "markdown",
      "metadata": {
        "id": "oDVOu-XpFZYI"
      },
      "source": [
        "**Preencha a coluna `user_gender` com o valor mais frequente.**"
      ]
    },
    {
      "cell_type": "code",
      "metadata": {
        "id": "7f9WWlD6FZnJ"
      },
      "source": [
        ""
      ],
      "execution_count": null,
      "outputs": []
    },
    {
      "cell_type": "code",
      "metadata": {
        "id": "4c5iYhx3Fyqa",
        "cellView": "form"
      },
      "source": [
        "#@title\n",
        "# ver o valor mais frequente\n",
        "print(df_bike.user_gender.value_counts())\n",
        "\n",
        "# preencher os valores ausentes de user_gender com 'M'\n",
        "df_bike.user_gender.fillna('M', inplace=True)"
      ],
      "execution_count": null,
      "outputs": []
    },
    {
      "cell_type": "markdown",
      "metadata": {
        "id": "ckDXwzIzF7XT"
      },
      "source": [
        "**Plote u boxplot para a coluna `ride_duration`.**"
      ]
    },
    {
      "cell_type": "code",
      "metadata": {
        "id": "xIluDO2wGGE6"
      },
      "source": [
        ""
      ],
      "execution_count": null,
      "outputs": []
    },
    {
      "cell_type": "code",
      "metadata": {
        "id": "kErG6xfpGGqT",
        "cellView": "form"
      },
      "source": [
        "#@title\n",
        "df_bike.ride_duration.plot(kind=\"box\")"
      ],
      "execution_count": null,
      "outputs": []
    }
  ]
}