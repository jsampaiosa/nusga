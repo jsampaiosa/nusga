{
  "nbformat": 4,
  "nbformat_minor": 0,
  "metadata": {
    "kernelspec": {
      "display_name": "Python 3",
      "language": "python",
      "name": "python3"
    },
    "language_info": {
      "codemirror_mode": {
        "name": "ipython",
        "version": 3
      },
      "file_extension": ".py",
      "mimetype": "text/x-python",
      "name": "python",
      "nbconvert_exporter": "python",
      "pygments_lexer": "ipython3",
      "version": "3.8.5"
    },
    "colab": {
      "name": "Automatização mouse teclado e tela.ipynb",
      "provenance": [],
      "include_colab_link": true
    }
  },
  "cells": [
    {
      "cell_type": "markdown",
      "metadata": {
        "id": "view-in-github",
        "colab_type": "text"
      },
      "source": [
        "<a href=\"https://colab.research.google.com/github/jsampaiosa/nusga/blob/main/Automatiza%C3%A7%C3%A3o_mouse_teclado_e_tela.ipynb\" target=\"_parent\"><img src=\"https://colab.research.google.com/assets/colab-badge.svg\" alt=\"Open In Colab\"/></a>"
      ]
    },
    {
      "cell_type": "markdown",
      "metadata": {
        "id": "cXMqmIWzvzb0"
      },
      "source": [
        "# RPA e Python - Automatize qualquer Processo ou Sistema com Python\n",
        "\n",
        "### pyautogui\n",
        "\n",
        "- Biblioteca para controlar Mouse, Teclado e Tela do Computador com o Python<br>\n",
        "(Link: https://pyautogui.readthedocs.io/en/latest/quickstart.html)\n",
        "\n",
        "\n",
        "- Vamos fazer um exemplo simples aqui, mas repare que isso serve para:\n",
        "    - Qualquer site\n",
        "    - Qualquer programa ou pasta do seu computador\n",
        "    - Qualquer Sistema que você tenha que acessar e automatizar\n",
        "    \n",
        "### Desafio:\n",
        "\n",
        "- Queremos automatizar o backup de arquivos no sistema\n",
        "    - No nosso exemplo, vamos ter que criar um processo que faça o upload de 1 arquivo no Google Drive de forma automática e rápida"
      ]
    },
    {
      "cell_type": "code",
      "metadata": {
        "id": "kOxybe-Uvzb3",
        "outputId": "adc7df11-d33b-46d4-eabd-ebe426cf9376"
      },
      "source": [
        "import pyautogui\n",
        "import time\n",
        "\n",
        "pyautogui.alert(\"O código vai começar. Não use nada do seu computador enquanto o código está rodando\")\n",
        "pyautogui.PAUSE = 0.5\n",
        "# abrir o google drive no meu computador\n",
        "pyautogui.press('winleft')\n",
        "pyautogui.write('chrome')\n",
        "pyautogui.press('enter')\n",
        "time.sleep(1)\n",
        "pyautogui.write(\"https://drive.google.com/drive/my-drive\")\n",
        "pyautogui.press('enter')\n",
        "\n",
        "# entrar na minha área de trabalho\n",
        "pyautogui.hotkey('winleft', 'd')\n",
        "# cliquei no arquivo que eu quero fazer backup e arrastei ele\n",
        "pyautogui.moveTo(3704, 98)\n",
        "pyautogui.mouseDown()\n",
        "pyautogui.moveTo(2318, 1413)\n",
        "\n",
        "# enquanto eu to arrastando, eu vou mudar para o google drive\n",
        "pyautogui.hotkey('alt', 'tab')\n",
        "time.sleep(1)\n",
        "# larguei o arquivo no google drive\n",
        "pyautogui.mouseUp()\n",
        "\n",
        "# esperar 5 segundos\n",
        "time.sleep(5)\n",
        "\n",
        "pyautogui.alert(\"O código acabou de rodar. Pode usar o seu computador de novo\")"
      ],
      "execution_count": null,
      "outputs": [
        {
          "output_type": "execute_result",
          "data": {
            "text/plain": [
              "'OK'"
            ]
          },
          "metadata": {
            "tags": []
          },
          "execution_count": 16
        }
      ]
    },
    {
      "cell_type": "code",
      "metadata": {
        "id": "A1AqPjwTvzb4",
        "outputId": "028ebb6c-b5f7-42fa-f021-ef83762514ee"
      },
      "source": [
        "pyautogui.position()"
      ],
      "execution_count": null,
      "outputs": [
        {
          "output_type": "execute_result",
          "data": {
            "text/plain": [
              "Point(x=2318, y=1413)"
            ]
          },
          "metadata": {
            "tags": []
          },
          "execution_count": 12
        }
      ]
    }
  ]
}