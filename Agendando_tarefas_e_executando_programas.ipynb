{
  "nbformat": 4,
  "nbformat_minor": 0,
  "metadata": {
    "colab": {
      "name": "Agendando tarefas e executando programas",
      "provenance": [],
      "collapsed_sections": [],
      "include_colab_link": true
    },
    "kernelspec": {
      "name": "python3",
      "display_name": "Python 3"
    }
  },
  "cells": [
    {
      "cell_type": "markdown",
      "metadata": {
        "id": "view-in-github",
        "colab_type": "text"
      },
      "source": [
        "<a href=\"https://colab.research.google.com/github/jsampaiosa/nusga/blob/main/Agendando_tarefas_e_executando_programas.ipynb\" target=\"_parent\"><img src=\"https://colab.research.google.com/assets/colab-badge.svg\" alt=\"Open In Colab\"/></a>"
      ]
    },
    {
      "cell_type": "markdown",
      "metadata": {
        "id": "Q9TaEXw685h_"
      },
      "source": [
        "<img alt=\"Colaboratory logo\" width=\"15%\" src=\"https://raw.githubusercontent.com/carlosfab/escola-data-science/master/img/novo_logo_bg_claro.png\">\n",
        "\n",
        "#### **Python do Zero**\n",
        "*by [sigmoidal.ai](https://sigmoidal.ai)*\n",
        "\n",
        "---\n",
        "\n",
        "# Módulo 07 - Agendando tarefas e executando programas\n",
        "\n",
        "Módulo construído para ensinar a agendar tarefas e executar programas em sua máquina local\n",
        "\n",
        "\n",
        "<center><img width=\"35%\" src=\"https://image.freepik.com/free-vector/collaborative-robotics-abstract-concept-illustration_335657-2115.jpg\"></center>\n"
      ]
    },
    {
      "cell_type": "markdown",
      "metadata": {
        "id": "l9COWMCo--sN"
      },
      "source": [
        "## 01 - Agendando Eventos e Scripts\n",
        "\n",
        "Para conseguir agendar eventos, é importante entender como mensurar o tempo em Python, e como ele mesmo lida com tempo. A partir da biblioteca `time`, temos facilitado o tratamento do tempo.\n",
        "\n",
        "Vamos importar a biblioteca e ver como ela funciona."
      ]
    },
    {
      "cell_type": "code",
      "metadata": {
        "colab": {
          "base_uri": "https://localhost:8080/"
        },
        "id": "l_J1tMbh--LU",
        "outputId": "93d047c0-57d7-4d7e-ff37-409c4e49c7c9"
      },
      "source": [
        "import time \n",
        "\n",
        "# tempo segundos de 12 am de 1o de Janeiro de 1970, Unix Epoch\n",
        "time.time()"
      ],
      "execution_count": null,
      "outputs": [
        {
          "output_type": "execute_result",
          "data": {
            "text/plain": [
              "1610042384.4529011"
            ]
          },
          "metadata": {
            "tags": []
          },
          "execution_count": 3
        }
      ]
    },
    {
      "cell_type": "code",
      "metadata": {
        "colab": {
          "base_uri": "https://localhost:8080/"
        },
        "id": "wQQXLGnR-pkI",
        "outputId": "b8e7624e-62cd-4303-f049-355e75404894"
      },
      "source": [
        "# sleep para fazer o programa esperar\n",
        "for i in range(3):\n",
        "    print('Tick')\n",
        "    time.sleep(1)\n",
        "    print('Tock')\n",
        "    time.sleep(1)\n",
        "time.sleep(5)\n",
        "print('Fim!')"
      ],
      "execution_count": null,
      "outputs": [
        {
          "output_type": "stream",
          "text": [
            "Tick\n",
            "Tock\n",
            "Tick\n",
            "Tock\n",
            "Tick\n",
            "Tock\n",
            "Fim!\n"
          ],
          "name": "stdout"
        }
      ]
    },
    {
      "cell_type": "code",
      "metadata": {
        "colab": {
          "base_uri": "https://localhost:8080/"
        },
        "id": "SqVy9X9dAx43",
        "outputId": "f0636b94-f23d-4915-9dcc-3344c2d86779"
      },
      "source": [
        "input()\n",
        "print('Started')\n",
        "\n",
        "# Start tracking the lap times.\n",
        "try:\n",
        "   while True:\n",
        "        input()\n",
        "        lapTime = round(time.time() - lastTime, 2)\n",
        "        totalTime = round(time.time() - startTime, 2)\n",
        "        print('Lap #%s: %s (%s)' % (lapNum, totalTime, lapTime), end='')\n",
        "        lapNum += 1\n",
        "        lastTime = time.time() # reset the last lap time\n",
        "except KeyboardInterrupt:\n",
        "# Handle the Ctrl-C exception to keep its error message from displaying.\n",
        "  print('\\nDone.')"
      ],
      "execution_count": null,
      "outputs": [
        {
          "output_type": "stream",
          "text": [
            "\n",
            "Started\n",
            "\n",
            "Lap #1: 208.17 (208.17)\n",
            "Lap #2: 209.93 (1.76)\n",
            "Lap #3: 211.57 (1.63)\n",
            "Lap #4: 213.05 (1.48)\n",
            "Lap #5: 214.66 (1.61)\n",
            "Lap #6: 216.26 (1.6)\n",
            "Lap #7: 223.08 (6.82)\n",
            "Lap #8: 226.08 (2.99)\n",
            "Lap #9: 230.55 (4.47)\n",
            "Lap #10: 235.19 (4.64)\n",
            "Done.\n"
          ],
          "name": "stdout"
        }
      ]
    },
    {
      "cell_type": "markdown",
      "metadata": {
        "id": "zxVSNfNcCWXc"
      },
      "source": [
        "O módulo time é conveniente para lidar com segundos, e unidades menores, usando uma timestamp de epoch Unix para calcular o tempo. Entretanto, para expressas e trabalhar com datas de uma forma mais convencional, podemos usar a biblioteca `datetime`.\n"
      ]
    },
    {
      "cell_type": "code",
      "metadata": {
        "colab": {
          "base_uri": "https://localhost:8080/"
        },
        "id": "T_a79CLyCMWV",
        "outputId": "f110dd79-9be2-4385-bb3a-b20004113454"
      },
      "source": [
        "# modulo datetime\n",
        "import datetime\n",
        "dt = datetime.datetime.now()\n",
        "dt"
      ],
      "execution_count": null,
      "outputs": [
        {
          "output_type": "execute_result",
          "data": {
            "text/plain": [
              "datetime.datetime(2021, 1, 11, 21, 23, 32, 713845)"
            ]
          },
          "metadata": {
            "tags": []
          },
          "execution_count": 1
        }
      ]
    },
    {
      "cell_type": "markdown",
      "metadata": {
        "id": "wzPdLrxGbQXs"
      },
      "source": [
        "É mais comum precisarmos fazer o caminho contrário, e transformar uma string em formato datetime. Mas, saber transformar datetime em string pode ser bastante útil. Com o método `strftime`, podemos transformar objetos datetime em string, formatando-os no caminho.\n",
        "\n",
        "Para uma lista mais completa de todas as possibilidades de formatação, consulte [esse link](https://thispointer.com/python-how-to-convert-datetime-object-to-string-using-datetime-strftime/)."
      ]
    },
    {
      "cell_type": "code",
      "metadata": {
        "id": "9u7NFFGEYooi"
      },
      "source": [
        "# convertendo datetime em string\n",
        "date = dt.strftime(\"%d-%m-%Y\")"
      ],
      "execution_count": null,
      "outputs": []
    },
    {
      "cell_type": "code",
      "metadata": {
        "colab": {
          "base_uri": "https://localhost:8080/"
        },
        "id": "xYMtnOzfCt4b",
        "outputId": "49732cbd-9f12-411e-a75e-d560c7dea5d1"
      },
      "source": [
        "# conferindo os objetos\n",
        "print('Ano: ', dt.year)\n",
        "print('Mês: ', dt.month)\n",
        "print('Dia: ', dt.day)"
      ],
      "execution_count": null,
      "outputs": [
        {
          "output_type": "stream",
          "text": [
            "Ano:  2021\n",
            "Mês:  1\n",
            "Dia:  7\n"
          ],
          "name": "stdout"
        }
      ]
    },
    {
      "cell_type": "markdown",
      "metadata": {
        "id": "ojrQLlBhDAD_"
      },
      "source": [
        "Também é possível trabalhar com unidades menores:"
      ]
    },
    {
      "cell_type": "code",
      "metadata": {
        "colab": {
          "base_uri": "https://localhost:8080/"
        },
        "id": "DRr9KEIADD9m",
        "outputId": "fdcc7e16-807c-43ae-ef27-56b5ad214a0c"
      },
      "source": [
        "print('Hora: ', dt.hour)\n",
        "print('Minuto: ', dt.minute)\n",
        "print('Segundos: ', dt.second)"
      ],
      "execution_count": null,
      "outputs": [
        {
          "output_type": "stream",
          "text": [
            "Hora:  18\n",
            "Minuto:  10\n",
            "Segundos:  44\n"
          ],
          "name": "stdout"
        }
      ]
    },
    {
      "cell_type": "code",
      "metadata": {
        "colab": {
          "base_uri": "https://localhost:8080/"
        },
        "id": "2KbWSnGODmUV",
        "outputId": "b75c255b-c893-43b5-f8cc-492a3164dc7b"
      },
      "source": [
        "# calculando que dia será daqui mil dias\n",
        "milDias = datetime.timedelta(days=1000)\n",
        "\n",
        "dt + milDias"
      ],
      "execution_count": null,
      "outputs": [
        {
          "output_type": "execute_result",
          "data": {
            "text/plain": [
              "datetime.datetime(2023, 10, 4, 18, 10, 44, 848022)"
            ]
          },
          "metadata": {
            "tags": []
          },
          "execution_count": 20
        }
      ]
    },
    {
      "cell_type": "markdown",
      "metadata": {
        "id": "jGWXcufPE_-T"
      },
      "source": [
        "Com isso, poderíamos, por exemplo, agendar que um aplicativo, ou o script, fizesse uma pausa até determinado dia.\n"
      ]
    },
    {
      "cell_type": "code",
      "metadata": {
        "id": "-7Okm-2CFQ3c"
      },
      "source": [
        "# agendando pausa\n",
        "fimDoMes = datetime.datetime(2021,1,31,0,0,0)\n",
        "\n",
        "while datetime.datetime.now() < fimDoMes:\n",
        "  time.sleep(1)\n",
        "  if datetime.datetime.now() == fimDoMes:\n",
        "    break\n",
        "    print('Pague as contas!')"
      ],
      "execution_count": null,
      "outputs": []
    },
    {
      "cell_type": "markdown",
      "metadata": {
        "id": "A3m-z_On9QDi"
      },
      "source": [
        "## 02 - Abrindo programas na sua máquina com Python\n",
        "\n",
        "Com a ajuda do pacote `webbrowser`, podemos facilmente abrir uma página na web. Juntando o que vimos anteriormente, podemos criar um script que abra uma página na web após determinado tempo de espera.\n",
        "\n",
        "Também poderíamos usar a biblioteca `subprocess` para abrir um arquivo de som, e disparar um alarme.\n",
        "\n",
        "Atenção pois diferentes sistemas operacionais precisam de comandos diferentes.\n",
        "\n",
        "Além disso, também é possível integrar a biblioteca OS, openpyxl, como vimos nos módulos anteriores. A ideia aqui é trazer novas possibilidades."
      ]
    },
    {
      "cell_type": "code",
      "metadata": {
        "id": "V2_QxB7jIfFW"
      },
      "source": [
        "import time\n",
        "import subprocess\n",
        "import webbrowser\n",
        "\n",
        "timeLeft = 5\n",
        "while timeLeft > 0:\n",
        "    print(timeLeft, end='')\n",
        "    time.sleep(1)\n",
        "    timeLeft = timeLeft - 1\n",
        "    if timeLeft == 0:\n",
        "        webbrowser.open('https://sigmoidal.memberkit.com.br')\n",
        "        # usar o código abaixo para disparar um alarme\n",
        "        #subprocess.Popen(['open', 'alarm.wav'])  <--MacOS\n",
        "        #subprocess.Popen(['start', 'alarm.wav'], shell=True)"
      ],
      "execution_count": null,
      "outputs": []
    },
    {
      "cell_type": "markdown",
      "metadata": {
        "id": "6CJcBv9l6Mqd"
      },
      "source": [
        "## 03 - PyAutoGUI\n",
        "\n",
        "\n",
        "Com uma *Graphical User Interface Automation* ou GUI Automation, nossos programas podem fazer tudo que usuários humanos fariam. \n",
        "\n",
        "Esse tipo de ferramenta é especialmente útil para tarefas repetitias, que envolvem vários cliques, ou preencher formulários, por exemplo.\n",
        "\n",
        "Para isso, utilizaremos o `PyAutoGUI` para nos auxiliar a executar essas tarefas. Por isso, primeiro passo é instalar o pacote e começar a trabalhar.\n",
        "\n",
        "Também é importante salientar que o Python consegue clicar e apertar o teclado em velocidades altíssimas, mais altas do que os programas que serão o alvo dessas ações conseguem processar, em alguns casos. Com isso em mente, a forma mais simples de parar uma GUI Automation fora de controle é simplesmente fazer log out, parando todos os programas que estiverem sendo executados.\n",
        "\n",
        "Alternativamente, é possível adicionar pausas e mecanismos de *fail-safe*, ou prevenção, para quando o programa ficar fora de controle."
      ]
    },
    {
      "cell_type": "markdown",
      "metadata": {
        "id": "V-SwIgQ3cLJO"
      },
      "source": [
        "### Instalando os Pacotes\n",
        "Usuários de Windows podem simplesmente instalar o PyAutoGUI direto, mas usuários de MacOS e Linux precisam instalar separadamente algumas dependências para garantir que não teremos problemas."
      ]
    },
    {
      "cell_type": "code",
      "metadata": {
        "id": "uprxy2RZ-rrt"
      },
      "source": [
        "# Comandos para Windows\n",
        "pip install pyautogui"
      ],
      "execution_count": null,
      "outputs": []
    },
    {
      "cell_type": "code",
      "metadata": {
        "id": "AAbXNvQ47nI3"
      },
      "source": [
        "# Comandos Mac OS\n",
        "sudo pip3 install pyobjc-framework-Quartz\n",
        "sudo pip3 install pyobjc-core\n",
        "sudo pip3 install pyobjc\n",
        "sudo pip3 install pyautogui"
      ],
      "execution_count": null,
      "outputs": []
    },
    {
      "cell_type": "code",
      "metadata": {
        "id": "t75FRESU_EXG"
      },
      "source": [
        "# Comandos Linux\n",
        "sudo pip3 install python3-xlib\n",
        "sudo apt-get install scrot\n",
        "sudo apt-get install python3-tk\n",
        "sudo apt-get install python3-dev\n",
        "sudo pip3 install pyautogui"
      ],
      "execution_count": null,
      "outputs": []
    },
    {
      "cell_type": "code",
      "metadata": {
        "id": "reATPj2y89SB"
      },
      "source": [
        "# no arqvuio .py no PyCharm\n",
        "import pyautogui\n",
        "pyautogui.PAUSE = 1\n",
        "pyautogui.FAILSAFE = True"
      ],
      "execution_count": null,
      "outputs": []
    },
    {
      "cell_type": "markdown",
      "metadata": {
        "id": "oQ-nz3Hi_dx2"
      },
      "source": [
        "### Controlando o Mouse com Python\n",
        "\n",
        "Uma coisa importante para conseguirmos controlar o mouse efetivamente é entender sua posição na tela. O `PyAutoGUI` se orienta dentro de um plano com eixo X e Y representando a tela, como na imagem abaixo.\n",
        "<p align=\"center\"><img src=\"https://github.com/rafaelnduarte/sigmoidal_data/blob/master/Screen%20Shot%202021-01-11%20at%2012.03.51.png?raw=true\" width=\"30%\"></p>\n",
        "\n",
        "As cordenadas de X aumentam à medida que andam para a direita, e as do Y quando se movem para baixo. Com isso, o ponto 0,0 está no canto superior esquerdo, e o canto inferior direito seria o 1919,1079 (Para uma tela de resolução 1920x1080). As cordenadas serão sempre inteiros positivos.\n",
        "\n",
        "Para descobrir o tamanho da sua tela, o PyAutoGUI tem a função `.size()`.\n",
        "\n"
      ]
    },
    {
      "cell_type": "code",
      "metadata": {
        "id": "8ANtCdw_G5xZ"
      },
      "source": [
        "# verificar o tamanho da tela\n",
        "print(pyautogui.size())\n",
        "\n",
        "# salvando as medidas em variáveis\n",
        "width, height = pyautogui.size()"
      ],
      "execution_count": null,
      "outputs": []
    },
    {
      "cell_type": "markdown",
      "metadata": {
        "id": "iSgXkU6TG-8j"
      },
      "source": [
        "Para mover o mouse, podemos usar a função `moveTo`, dando as coordenadas e a duração do movimento. Caso não haja especificação da duração do movimento, o mouse irá se \"teletransportar\" até as coordenadas.\n",
        "\n",
        "No código abaixo, iremos fazer o mouse se mover, formando um quadrado, com movimentos que duram 0.25 segundos."
      ]
    },
    {
      "cell_type": "code",
      "metadata": {
        "id": "9mOMakSyGaQ6"
      },
      "source": [
        "# movendo o mouse\n",
        "for i in range(10):\n",
        "    pyautogui.moveTo(100, 100, duration=0.25)\n",
        "    pyautogui.moveTo(200, 100, duration=0.25)\n",
        "    pyautogui.moveTo(200, 200, duration=0.25)\n",
        "    pyautogui.moveTo(100, 200, duration=0.25)"
      ],
      "execution_count": null,
      "outputs": []
    },
    {
      "cell_type": "markdown",
      "metadata": {
        "id": "KGxzxedxJwAm"
      },
      "source": [
        "Para descobrir onde o mouse está, usmaos a função `.position()`."
      ]
    },
    {
      "cell_type": "code",
      "metadata": {
        "id": "ME7YLQMOJ3Xt"
      },
      "source": [
        "# pegando a posição do mouse\n",
        "pyautogui.position()"
      ],
      "execution_count": null,
      "outputs": []
    },
    {
      "cell_type": "markdown",
      "metadata": {
        "id": "jpFQuS8-Hhvn"
      },
      "source": [
        "Também é possível fazer o mouse se mover a partir do local que ele se encontra, ao invés de levá-lo até uma coordenada específica. Nesse caso, vamos utilizar o `.moveRel`.\n",
        "\n",
        "Aqui, ele recebe os argumentos (pixels para se mover horizontalmente para a direita, pixels para se mover verticalmente para baixo, tempo de duração dos movimentos, sendo esse útlimo opcional).\n",
        "\n",
        "Aqui, não estamos passando coordenadas, e sim a quantidade de pixels que o cursos precisa se movimentar. Por isso, para mover para a direita ou para baixo, passaremos valores positivos, enquanto para mover para esquerda ou para cima, valores negativos, nos argumentos correspondentes a essas direções."
      ]
    },
    {
      "cell_type": "code",
      "metadata": {
        "id": "Kic8OP01IECz"
      },
      "source": [
        "# movendo o mouse a partir de onde ele estiver\n",
        "for i in range(10):\n",
        "    pyautogui.moveRel(100, 0, duration=0.25)\n",
        "    pyautogui.moveRel(0, 100, duration=0.25)\n",
        "    pyautogui.moveRel(-100, 0, duration=0.25)\n",
        "    pyautogui.moveRel(0, -100, duration=0.25)"
      ],
      "execution_count": null,
      "outputs": []
    },
    {
      "cell_type": "markdown",
      "metadata": {
        "id": "rFs5ijyhKx9f"
      },
      "source": [
        "Para clicar como o mouse, basta usar a função `.click()`, que pode receber como argumentos as coordenadas onde deverá ocorrer o clique, e o botão que deve ser utilizado.\n",
        "\n",
        "Caso nada seja passado, a função, por padrão, clica na localização atual do mouse como o botão esquerdo. Mas podemos passar argumentos para clicar onde desejarmos."
      ]
    },
    {
      "cell_type": "code",
      "metadata": {
        "id": "wU1gTiDTKxb0"
      },
      "source": [
        "# clicando com o mouse\n",
        "pyautogui.click(10,5, button='left')"
      ],
      "execution_count": null,
      "outputs": []
    },
    {
      "cell_type": "markdown",
      "metadata": {
        "id": "hZ43bnNRwn1V"
      },
      "source": [
        "Também é possível arrastar o mouse, ou seja, movimentar o cursor enquanto pressionamos um botão. Isso é feito a partir dos comeandos `.dragTo()` ou `.dragRel()`, seguindo a mesma lógica dos movimentos que vimos anteriormente.\n",
        "\n",
        "Atenção usuários de Mac, pois essa função com um velocidade de movimento muito rápida pode causar problemas, então é recomendado que a velocidade seja sempre passada como parâmetro para essa função.\n",
        "\n",
        "Para testar essa função, abra algum aplicativo de desenho como o Paint do Windows, Paintbrush no MacOS ou GNU Paint no Linux, ou [esse aqui online](https://sumo.app/paint/en).\n",
        "\n",
        "Aqui, iremos usar essa função para desenhar com Python. Lembre-se de selecionar um pincel fino para que o desenho fique bacana."
      ]
    },
    {
      "cell_type": "code",
      "metadata": {
        "id": "PrhqR9OFzYgO"
      },
      "source": [
        "import warnings\n",
        "warnings.filterwarnings(\"ignore\")\n",
        "import pyautogui\n",
        "import time\n",
        "\n",
        "\n",
        "# dando tempo de colocar o aplicativo na frente do PyCharm\n",
        "time.sleep(5)\n",
        "\n",
        "pyautogui.click(button='left')\n",
        "distance = 200\n",
        "while distance > 0:\n",
        "  # mover para direita\n",
        "  pyautogui.dragRel(distance, 0, button='left', duration=0.2)\n",
        "  distance = distance - 5\n",
        "  # mover para baixo\n",
        "  pyautogui.dragRel(0, distance, button='left', duration=0.2)\n",
        "  # mover para a esquerda\n",
        "  pyautogui.dragRel(-distance, 0, button='left', duration=0.2)\n",
        "  distance = distance - 5\n",
        "  # mover para cima\n",
        "  pyautogui.dragRel(0, -distance, button='left', duration=0.2)"
      ],
      "execution_count": null,
      "outputs": []
    },
    {
      "cell_type": "markdown",
      "metadata": {
        "id": "l_wnpvoF7pnY"
      },
      "source": [
        "O resultado deve ser algo como a imagem abaixo:\n",
        "\n",
        "<p align=\"center\"><img src=\"https://github.com/rafaelnduarte/sigmoidal_data/blob/master/Screen%20Shot%202021-01-11%20at%2016.33.49.png?raw=true\" width=\"30%\"></p>"
      ]
    },
    {
      "cell_type": "markdown",
      "metadata": {
        "id": "1yi7jwPc9aVT"
      },
      "source": [
        "### Controlando o Teclado com Python \n",
        "Copiando e colando textos automaticamente\n",
        "\n",
        "Capítulo 18 - Hotkeys (ctrl+c, ctrl+v)\n",
        "\n",
        "Com Python também é possível controlar o teclado, abrindo novas possibilidades para nossas automações. Dentro do PyAutoGUI também temos a função `.typewrite()`, que recebe como parâmtero uma string, que será digitada onde colocarmos nosso cursor. Por padrão, ele imprime direto a string inteira. Entretanto, é possível dar um tempo entre os toques, passando um segundo argumento, que seria o tempo de intervalo em segundos.\n",
        "\n",
        "Abra um editor de texto, e rode o código a seguir."
      ]
    },
    {
      "cell_type": "code",
      "metadata": {
        "id": "TqxgO3WTAK-t"
      },
      "source": [
        "import warnings\n",
        "warnings.filterwarnings(\"ignore\")\n",
        "import pyautogui\n",
        "import time\n",
        "\n",
        "\n",
        "# dando tempo de colocar o aplicativo na frente do PyCharm\n",
        "time.sleep(5)\n",
        "\n",
        "# clicando no editor\n",
        "pyautogui.click(640,512)\n",
        "\n",
        "# escrevendo\n",
        "pyautogui.typewrite('Sigmoidal.ai', 0.25)"
      ],
      "execution_count": null,
      "outputs": []
    },
    {
      "cell_type": "markdown",
      "metadata": {
        "id": "l-11hEJ9C4-P"
      },
      "source": [
        "Também é possível passar tecla a tecla:"
      ]
    },
    {
      "cell_type": "code",
      "metadata": {
        "id": "QpyxbExmC8gK"
      },
      "source": [
        "pyautogui.typewrite(['a', 'b', 'left', 'left', 'X', 'Y'])"
      ],
      "execution_count": null,
      "outputs": []
    },
    {
      "cell_type": "markdown",
      "metadata": {
        "id": "vSIyNUBkDEzr"
      },
      "source": [
        "O resultado será a string \"XYab\", pois estaremos pressionando as teclas a e b, depois a seta esquerda duas vezes, e por fim, X e Y.\n",
        "\n",
        "Repare que não estamos o Shift, mas mesmo assim o X e o Y ficam maiúsculos. Isso nos salva de algum trabalho, mas também é possível utilizar essas teclas, caso queira.\n",
        "\n",
        "Essas teclas são importantes caso queiramos copiar e colar algo, por exemplo.\n",
        "\n",
        "Aqui, poderíamos usar da seguinte forma:"
      ]
    },
    {
      "cell_type": "code",
      "metadata": {
        "id": "kqRPJK-pD81r"
      },
      "source": [
        "pyautogui.keyDown('shift'); pyautogui.press('4'); pyautogui.keyUp('shift')"
      ],
      "execution_count": null,
      "outputs": []
    },
    {
      "cell_type": "markdown",
      "metadata": {
        "id": "hxmRt9pYEVaC"
      },
      "source": [
        "No meu teclado, o resultado foi o símbolo \"$\". O que acontece é que ele pressinou a tecla shift (keyDown), apertou (press) a tecla 4, e depois soltou o shift (keyUp).\n",
        "\n",
        "Dá pra fazer funcionar um ctrl c + ctrl v dessa forma, mas é muito mais trabalhoso.\n",
        "\n",
        "Pensando nisso, o PyAutoGUI já traz para nós os `hotkeys`, que facilitam esse trabalho. Esse método é especialmente eficaz para hotkeys mais longos, mas funciona bem com os curtos como copiar e colar.\n",
        "\n",
        "Veja abaixo como podemos usá-lo:"
      ]
    },
    {
      "cell_type": "code",
      "metadata": {
        "id": "XvQs91yrFbvL"
      },
      "source": [
        "# hotkeys\n",
        "pyautogui.hotkey('ctrl', 'c')\n",
        "pyautogui.hotkey('ctrl', 'v')\n"
      ],
      "execution_count": null,
      "outputs": []
    },
    {
      "cell_type": "markdown",
      "metadata": {
        "id": "HzusRWzgcfHc"
      },
      "source": [
        "## 04 - Projeto Final\n",
        "\n",
        "Para botar em prática tudo que vimos até aqui, vamos criar um script de automação para pegar a cotação do dólar e registrar em uma planilha. Crie uma planilha, por exemplo, no [Google Sheets](), e coloque nas primeiras colunas \"Data\" e \"Cotação\".\n",
        "\n",
        "O seu script deve ser capaz de:\n",
        "- Pegar a data de hoje (datetime)\n",
        "- Abrir o navegador e buscar no Google a cotação do dólar do dia (webbrowser, pyautogui)\n",
        "- Copiar a cotação do dia (pyautogui)\n",
        "- Abrir a planilha (webbrowser), navegar até as células correspondentes e copiar a data e a cotação em suas respectivas células. (pyautogui)"
      ]
    },
    {
      "cell_type": "code",
      "metadata": {
        "id": "SKEbaNSK84t_"
      },
      "source": [
        ""
      ],
      "execution_count": null,
      "outputs": []
    }
  ]
}