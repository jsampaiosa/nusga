{
  "nbformat": 4,
  "nbformat_minor": 0,
  "metadata": {
    "kernelspec": {
      "display_name": "Python 3",
      "language": "python",
      "name": "python3"
    },
    "language_info": {
      "codemirror_mode": {
        "name": "ipython",
        "version": 3
      },
      "file_extension": ".py",
      "mimetype": "text/x-python",
      "name": "python",
      "nbconvert_exporter": "python",
      "pygments_lexer": "ipython3",
      "version": "3.8.3"
    },
    "colab": {
      "name": "Cópia de Cartilha - Primeiros Códigos em Python.ipynb",
      "provenance": [],
      "include_colab_link": true
    }
  },
  "cells": [
    {
      "cell_type": "markdown",
      "metadata": {
        "id": "view-in-github",
        "colab_type": "text"
      },
      "source": [
        "<a href=\"https://colab.research.google.com/github/jsampaiosa/nusga/blob/main/C%C3%B3pia_de_Cartilha_Primeiros_C%C3%B3digos_em_Python.ipynb\" target=\"_parent\"><img src=\"https://colab.research.google.com/assets/colab-badge.svg\" alt=\"Open In Colab\"/></a>"
      ]
    },
    {
      "cell_type": "markdown",
      "metadata": {
        "id": "YXxGpLVjGWsA"
      },
      "source": [
        "# Cartilha para Consulta - 1ºs Códigos em Python\n",
        "\n",
        "Essa cartilha é para revisão e consulta dor primeiros códigos que aprendemos. Na prática você vai acabar naturalmente decorando esses códigos a medida que formos usando mais no curso, mas essa cartilha pode te ajudar sempre que precisar."
      ]
    },
    {
      "cell_type": "markdown",
      "metadata": {
        "id": "QbkfOlzuGWsC"
      },
      "source": [
        "### print(texto) -> Para \"imprimir\" (exibir) um texto ou uma variável"
      ]
    },
    {
      "cell_type": "code",
      "metadata": {
        "id": "H7iHVimbGWsC",
        "colab": {
          "base_uri": "https://localhost:8080/"
        },
        "outputId": "92442232-3fdc-4fda-cb0f-32281847e56d"
      },
      "source": [
        "print('O faturamento da loja foi de R$1.000')"
      ],
      "execution_count": 1,
      "outputs": [
        {
          "output_type": "stream",
          "text": [
            "O faturamento da loja foi de R$1.000\n"
          ],
          "name": "stdout"
        }
      ]
    },
    {
      "cell_type": "markdown",
      "metadata": {
        "id": "y1fZCg8MGWsD"
      },
      "source": [
        "### Textos (strings) são sempre entre aspas"
      ]
    },
    {
      "cell_type": "raw",
      "metadata": {
        "id": "yZgZpIvSGWsE"
      },
      "source": [
        "'lira@gmail.com' -> é uma string\n",
        "lira@gmail.com -> vai dar erro porque o Python acha que isso é uma variável (vamos ver como funcionam mais a frente)"
      ]
    },
    {
      "cell_type": "markdown",
      "metadata": {
        "id": "rBC_3grfGWsE"
      },
      "source": [
        "### Operações Mateméticas no Python:\n",
        "\n",
        "1. Adição -> +\n",
        "2. Subtração -> -\n",
        "3. Divisão -> /\n",
        "4. Multiplicação -> *\n",
        "5. Mod (resto da divisão) -> %"
      ]
    },
    {
      "cell_type": "code",
      "metadata": {
        "id": "LhIK8C6cGWsE",
        "colab": {
          "base_uri": "https://localhost:8080/"
        },
        "outputId": "2c51dd02-f0fb-4e55-87ff-43e43e68191a"
      },
      "source": [
        "#adição\n",
        "print(3 + 5)\n",
        "\n",
        "#subtração\n",
        "print(5 - 3)\n",
        "\n",
        "#divisão\n",
        "print(5 / 3)\n",
        "\n",
        "#multiplicação\n",
        "print(5.0 * 3)\n",
        "\n",
        "#mod (resto da divisão de 5 por 3)\n",
        "print(5 % 3)"
      ],
      "execution_count": 5,
      "outputs": [
        {
          "output_type": "stream",
          "text": [
            "8\n",
            "2\n",
            "1.6666666666666667\n",
            "15.0\n",
            "2\n"
          ],
          "name": "stdout"
        }
      ]
    },
    {
      "cell_type": "markdown",
      "metadata": {
        "id": "PeN3kftnGWsE"
      },
      "source": [
        "### Operações Básicas com String\n",
        "\n",
        "1. Concatenar -> +\n",
        "2. Verificar se um texto está contido dentro do outro -> in"
      ]
    },
    {
      "cell_type": "code",
      "metadata": {
        "id": "46OYsqIBGWsF",
        "outputId": "ce58e1a2-310a-4df2-9a60-129147a4ad73"
      },
      "source": [
        "#Concatenar\n",
        "print('O faturamento da loja foi ' + '1000')\n",
        "\n",
        "#Verificar se um texto está dentro do outro\n",
        "print('@' in 'lira@gmail.com')"
      ],
      "execution_count": null,
      "outputs": [
        {
          "output_type": "stream",
          "text": [
            "O faturamento da loja foi 1000\n",
            "True\n"
          ],
          "name": "stdout"
        }
      ]
    },
    {
      "cell_type": "markdown",
      "metadata": {
        "id": "yX4qA0JHGWsF"
      },
      "source": [
        "### Variável\n",
        "\n",
        "variavel = valor"
      ]
    },
    {
      "cell_type": "code",
      "metadata": {
        "id": "7GYl0IXfGWsF",
        "outputId": "93ec6bb6-76e5-4049-adf0-35f563c777be"
      },
      "source": [
        "faturamento = 1500\n",
        "custo = 800\n",
        "lucro = faturamento - custo \n",
        "print(faturamento)\n",
        "print(lucro)"
      ],
      "execution_count": null,
      "outputs": [
        {
          "output_type": "stream",
          "text": [
            "1500\n",
            "700\n"
          ],
          "name": "stdout"
        }
      ]
    },
    {
      "cell_type": "markdown",
      "metadata": {
        "id": "1qqUwGFCGWsG"
      },
      "source": [
        "### Pegar informações do Usuário\n",
        "\n",
        "variavel = input('Texto para o Usuário')"
      ]
    },
    {
      "cell_type": "code",
      "metadata": {
        "id": "KZGeK3d7GWsG",
        "outputId": "f4df7f7a-70df-476d-8fd3-869110a1c36f"
      },
      "source": [
        "#para cadastrar um cliente\n",
        "cpf = input('Digite seu cpf (apenas números, sem pontos e traços)')\n",
        "print('O cpf do cliente é ' + cpf)"
      ],
      "execution_count": null,
      "outputs": [
        {
          "output_type": "stream",
          "text": [
            "Digite seu cpf (apenas números, sem pontos e traços)15288699725\n",
            "O cpf do cliente é 15288699725\n"
          ],
          "name": "stdout"
        }
      ]
    }
  ]
}