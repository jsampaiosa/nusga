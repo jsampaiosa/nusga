{
  "nbformat": 4,
  "nbformat_minor": 0,
  "metadata": {
    "colab": {
      "name": "Biblioteca OS",
      "provenance": [],
      "collapsed_sections": [],
      "toc_visible": true,
      "include_colab_link": true
    },
    "kernelspec": {
      "name": "python3",
      "display_name": "Python 3"
    }
  },
  "cells": [
    {
      "cell_type": "markdown",
      "metadata": {
        "id": "view-in-github",
        "colab_type": "text"
      },
      "source": [
        "<a href=\"https://colab.research.google.com/github/jsampaiosa/nusga/blob/main/Biblioteca_OS.ipynb\" target=\"_parent\"><img src=\"https://colab.research.google.com/assets/colab-badge.svg\" alt=\"Open In Colab\"/></a>"
      ]
    },
    {
      "cell_type": "markdown",
      "metadata": {
        "id": "5_EXCiA03NMf"
      },
      "source": [
        "<img alt=\"Colaboratory logo\" width=\"15%\" src=\"https://raw.githubusercontent.com/carlosfab/escola-data-science/master/img/novo_logo_bg_claro.png\">\n",
        "\n",
        "#### **Python do Zero**\n",
        "*by [sigmoidal.ai](https://sigmoidal.ai)*\n",
        "\n",
        "---\n",
        "\n",
        "## Biblioteca OS\n",
        "\n",
        "A biblioteca OS nos dá a possibilidade de interagir com o Sistema Operacional através do Python. Com ela, podemos acessar, modificar, mover, apagar aquivos, entre muitas outras funçoes.\n",
        "\n",
        "\n",
        "<center><img width=\"50%\" src=\"https://image.freepik.com/free-photo/hacking-concept_23-2148165936.jpg\"></center>\n",
        "\n",
        "Essa biblioteca será extremamente útil em nosso fluxo de trabalho com Python.\n",
        "\n",
        "Então vamos importar a biblioteca e começar a explorar suas funcionalidades."
      ]
    },
    {
      "cell_type": "code",
      "metadata": {
        "id": "EkCAOo5g22Wy"
      },
      "source": [
        "# importando a biblioteca\n",
        "import os"
      ],
      "execution_count": 1,
      "outputs": []
    },
    {
      "cell_type": "markdown",
      "metadata": {
        "id": "8ZPUMfhN4Zy5"
      },
      "source": [
        "## getcwd()\n",
        "\n",
        "Antes de começarmos a explorar os diretórios e arquivos, é importante sabermos onde estamos. Pra isso, usaremos o `getcwd`. Em traduçao livre, o comando *Get Current Directory* significa \"pegar o diretório atual\".\n",
        "\n",
        "Como estamos no ambiente do colab, ele vai nos apresentar /content. Você pode ver os arquivos que estão lá ao clicar no ícone de pasta à esquerda do seu navegador aqui no colab."
      ]
    },
    {
      "cell_type": "code",
      "metadata": {
        "id": "47csF4x_36uT",
        "colab": {
          "base_uri": "https://localhost:8080/",
          "height": 35
        },
        "outputId": "2cf82fde-83ec-4ea3-af30-cb483c3a17d2"
      },
      "source": [
        "# verificar o diretório atual\n",
        "os.getcwd() "
      ],
      "execution_count": 4,
      "outputs": [
        {
          "output_type": "execute_result",
          "data": {
            "application/vnd.google.colaboratory.intrinsic+json": {
              "type": "string"
            },
            "text/plain": [
              "'/content/sample_data'"
            ]
          },
          "metadata": {
            "tags": []
          },
          "execution_count": 4
        }
      ]
    },
    {
      "cell_type": "markdown",
      "metadata": {
        "id": "-tzq7_-QwmBR"
      },
      "source": [
        "## chdir()\n",
        "\n",
        "Saber mudar de pasta é importante. Imagine que todos os seus arquivos já estão localizados dentro de um único diretório. Não faz sentido digitar o endereço completo toda hora.\n",
        "\n",
        "Isso sem falar no risco de você alterar arquivos em diretórios errados, por engano."
      ]
    },
    {
      "cell_type": "code",
      "metadata": {
        "id": "AwzGUsJywnMU"
      },
      "source": [
        "# mudar de diretório\n",
        "os.chdir(\"/content/sample_data\")"
      ],
      "execution_count": 5,
      "outputs": []
    },
    {
      "cell_type": "markdown",
      "metadata": {
        "id": "7Ci90bO-41Op"
      },
      "source": [
        "## listdir()\n",
        "\n",
        "Outra função interessante é listar o conteúdo dentro do diretório atual. Para isso utilizaremos o `listdir`.\n",
        "\n",
        "Aqui, mais uma vez, o resultado seria diferente em uma máquina local, a depender de onde você iniciou o Jupyter Notebook. No Colab, a referência continua sendo o ícone clicado anteriormente.\n",
        "\n",
        "A pasta com ícone de seta para cima se refere ao .config, e a outra pasta, é o sample_data."
      ]
    },
    {
      "cell_type": "code",
      "metadata": {
        "id": "4x8t5Waz4GiJ",
        "colab": {
          "base_uri": "https://localhost:8080/",
          "height": 125
        },
        "outputId": "ffa403cc-8cf4-48d1-f74a-ff4e5e7ef00b"
      },
      "source": [
        "# listar conteúdo do diretório atual\n",
        "os.listdir()"
      ],
      "execution_count": null,
      "outputs": [
        {
          "output_type": "execute_result",
          "data": {
            "text/plain": [
              "['anscombe.json',\n",
              " 'README.md',\n",
              " 'mnist_train_small.csv',\n",
              " 'california_housing_test.csv',\n",
              " 'california_housing_train.csv',\n",
              " 'mnist_test.csv']"
            ]
          },
          "metadata": {
            "tags": []
          },
          "execution_count": 15
        }
      ]
    },
    {
      "cell_type": "markdown",
      "metadata": {
        "id": "lysBesvO5rVW"
      },
      "source": [
        "## open() / close()\n",
        "\n",
        "Para abrir determinado arquivo, usamos a função `open()`. Após terminarmos de trabalhar com esse arquivo, podemos fechar o mesmo utilizando o `close()`.\n",
        "\n",
        "É necessário se atentar ao fato de que podemos abrir um arquivo para **leitura ('r')**, para **escrita ('w')**, ou para **acrescentar ('a')**.\n",
        "\n",
        "Nesse caso, nós ainda não temos um arquivo para abrir, então vamos criar um.\n",
        "\n",
        "Lembre-se que linguagens de programação são ferramentas, e existem várias formas de fazer a mesma coisa. Abaixo, vamos ver duas formas diferentes de criar um arquivo.\n",
        "\n",
        "Primeiramente, vamos criar o arquivo e associar ele a uma variável."
      ]
    },
    {
      "cell_type": "code",
      "metadata": {
        "id": "gs4YG-1A4IAR"
      },
      "source": [
        "# criando o arquivo\n",
        "arquivo = \"arquivo.txt\"\n",
        "\n",
        "# abrindo o arquivo no modo que permite escrita \n",
        "file = open(arquivo, 'w') \n",
        "file.write(\"#FamíliaSigmoidal\") \n",
        "file.close() "
      ],
      "execution_count": 6,
      "outputs": []
    },
    {
      "cell_type": "code",
      "metadata": {
        "id": "p3F5QGIm8DCD",
        "colab": {
          "base_uri": "https://localhost:8080/"
        },
        "outputId": "b9484f3a-7582-433f-cc95-0d37460e9bbd"
      },
      "source": [
        "# conferindo a criação do arquivo\n",
        "os.listdir()"
      ],
      "execution_count": 7,
      "outputs": [
        {
          "output_type": "execute_result",
          "data": {
            "text/plain": [
              "['anscombe.json',\n",
              " 'README.md',\n",
              " 'arquivo.txt',\n",
              " 'mnist_train_small.csv',\n",
              " 'mnist_test.csv',\n",
              " 'california_housing_train.csv',\n",
              " 'california_housing_test.csv']"
            ]
          },
          "metadata": {
            "tags": []
          },
          "execution_count": 7
        }
      ]
    },
    {
      "cell_type": "code",
      "metadata": {
        "id": "80e3XmjC6UIo",
        "colab": {
          "base_uri": "https://localhost:8080/"
        },
        "outputId": "d3e1a0dd-c055-4292-88c4-8c731593107e"
      },
      "source": [
        "# abrindo o arquivo para leitura\n",
        "file = open('arquivo.txt', 'r') \n",
        "\n",
        "# lendo o arquivo\n",
        "print(file.read())\n",
        "\n",
        "# fechar o arquivo\n",
        "file.close()"
      ],
      "execution_count": 9,
      "outputs": [
        {
          "output_type": "stream",
          "text": [
            "#FamíliaSampaio\n"
          ],
          "name": "stdout"
        }
      ]
    },
    {
      "cell_type": "markdown",
      "metadata": {
        "id": "EGj5mh0OWSyg"
      },
      "source": [
        "Também é possível utilizar a função `with` para manter o arquivo aberto enquanto o manipulamos utilizando os comandos acima.\n",
        "\n",
        "Basicamente o que faremos é criar uma função dizendo que:\n",
        "`com` o arquivo aberto na função x como `variável`: faça tal coisa.\n",
        "\n",
        "Aqui, vamos ver uma outra possibilidade para a criação de arquivo. Quando abrimos um arquivo para escrever, caso ele não exista, ele é criado."
      ]
    },
    {
      "cell_type": "code",
      "metadata": {
        "id": "i0KJaG1GXAX3"
      },
      "source": [
        "# criando e escrevendo no arquivo\n",
        "with open('teste.txt', 'w') as txt:\n",
        "  txt.write(\"Testando a função xfty\")"
      ],
      "execution_count": 13,
      "outputs": []
    },
    {
      "cell_type": "markdown",
      "metadata": {
        "id": "vELHzXlSbst3"
      },
      "source": [
        "Como vimos anteriormente, podemos também acrescentar informações a um arquivo existente. \n",
        "\n",
        "Para isso, vamos abrir o arquivo na função de **acrescentar ('a')**."
      ]
    },
    {
      "cell_type": "code",
      "metadata": {
        "id": "0ptRev96aErU"
      },
      "source": [
        "# adicionando informações ao arquivo\n",
        "with open('teste.txt', 'a') as txt:\n",
        "  txt.write(\"\\nMais Teste informações\")"
      ],
      "execution_count": 14,
      "outputs": []
    },
    {
      "cell_type": "markdown",
      "metadata": {
        "id": "4Yf9lZUVcjCX"
      },
      "source": [
        "Por fim, vamos ver o resultado."
      ]
    },
    {
      "cell_type": "code",
      "metadata": {
        "id": "ZVZhGwCXXd8C",
        "colab": {
          "base_uri": "https://localhost:8080/"
        },
        "outputId": "b549c5e7-ca50-49ea-b016-32fd2fcd7fad"
      },
      "source": [
        "# lendo o arquivo\n",
        "with open('teste.txt', 'r') as txt:\n",
        "  print(txt.read())"
      ],
      "execution_count": 15,
      "outputs": [
        {
          "output_type": "stream",
          "text": [
            "Testando a função xfty\n",
            "Mais Teste informações\n"
          ],
          "name": "stdout"
        }
      ]
    },
    {
      "cell_type": "markdown",
      "metadata": {
        "id": "0NkdNKGi7IgL"
      },
      "source": [
        "## rename() \n",
        "\n",
        "Um arquivo pode ser renomeado utilizando a função `rename()`.\n",
        "\n",
        "Atenção, pois o nome só é mudado caso o aquivo já exista, e o usuário fazendo a mudança tenha permissão para isso."
      ]
    },
    {
      "cell_type": "code",
      "metadata": {
        "id": "BIi5aFH55oHO",
        "colab": {
          "base_uri": "https://localhost:8080/"
        },
        "outputId": "7f63e271-c394-4e71-ec4e-45efc8db1b53"
      },
      "source": [
        "# renomeando o arquivo\n",
        "os.rename('arquivo.txt', 'juju.txt')\n",
        "\n",
        "# verificando que o nome do arquivo foi mudado\n",
        "os.listdir()"
      ],
      "execution_count": 19,
      "outputs": [
        {
          "output_type": "execute_result",
          "data": {
            "text/plain": [
              "['anscombe.json',\n",
              " 'README.md',\n",
              " 'sigmoidal.txt',\n",
              " 'juju.txt',\n",
              " 'mnist_train_small.csv',\n",
              " 'mnist_test.csv',\n",
              " 'california_housing_train.csv',\n",
              " 'california_housing_test.csv']"
            ]
          },
          "metadata": {
            "tags": []
          },
          "execution_count": 19
        }
      ]
    },
    {
      "cell_type": "markdown",
      "metadata": {
        "id": "9g9KoroN8eG3"
      },
      "source": [
        "# Exercícios\n",
        "\n",
        "Agora que já entendemos as funções básicas da biblioteca, vamos ver como usá-las na prática.\n",
        "\n",
        "<center><img width=\"50%\" src=\"https://image.freepik.com/free-photo/sport-outdoor_144627-38331.jpg\"></center>"
      ]
    },
    {
      "cell_type": "markdown",
      "metadata": {
        "id": "5wbikzKZ8kqC"
      },
      "source": [
        "### Exercício 1\n",
        "\n",
        "Importe a biblioteca OS e verifique:"
      ]
    },
    {
      "cell_type": "code",
      "metadata": {
        "id": "wsoJhPf98jhD",
        "colab": {
          "base_uri": "https://localhost:8080/",
          "height": 35
        },
        "outputId": "975ce49b-5449-4250-e221-6e677bacf16c"
      },
      "source": [
        "# a) em que diretório você está\n",
        "# verificar o diretório atual\n",
        "os.getcwd() \n"
      ],
      "execution_count": 20,
      "outputs": [
        {
          "output_type": "execute_result",
          "data": {
            "application/vnd.google.colaboratory.intrinsic+json": {
              "type": "string"
            },
            "text/plain": [
              "'/content/sample_data'"
            ]
          },
          "metadata": {
            "tags": []
          },
          "execution_count": 20
        }
      ]
    },
    {
      "cell_type": "code",
      "metadata": {
        "id": "iAUt6hLgTSy8"
      },
      "source": [
        "#@title Solução\n",
        "import os\n",
        "os.getcwd()"
      ],
      "execution_count": null,
      "outputs": []
    },
    {
      "cell_type": "code",
      "metadata": {
        "id": "AB1GRnbc8sMr",
        "colab": {
          "base_uri": "https://localhost:8080/"
        },
        "outputId": "41947ff2-ced2-4d8a-ac79-b5be35fe574c"
      },
      "source": [
        "# b) o que há dentro do diretório\n",
        "os.listdir()"
      ],
      "execution_count": 21,
      "outputs": [
        {
          "output_type": "execute_result",
          "data": {
            "text/plain": [
              "['anscombe.json',\n",
              " 'README.md',\n",
              " 'sigmoidal.txt',\n",
              " 'juju.txt',\n",
              " 'mnist_train_small.csv',\n",
              " 'mnist_test.csv',\n",
              " 'california_housing_train.csv',\n",
              " 'california_housing_test.csv']"
            ]
          },
          "metadata": {
            "tags": []
          },
          "execution_count": 21
        }
      ]
    },
    {
      "cell_type": "code",
      "metadata": {
        "id": "oMY6JOGzTbvd"
      },
      "source": [
        "#@title Solução\n",
        "os.listdir()"
      ],
      "execution_count": null,
      "outputs": []
    },
    {
      "cell_type": "markdown",
      "metadata": {
        "id": "HKNaYTdc8xn1"
      },
      "source": [
        "### Exercício 2\n",
        "\n",
        "Faça o que se pede na célula abaixo:"
      ]
    },
    {
      "cell_type": "code",
      "metadata": {
        "id": "j5-nZOWR834x"
      },
      "source": [
        "# a) crie um arquivo chamado aluno.txt e escreva nele o seu nome\n",
        "# criando o arquivo\n",
        "arquivos = \"Musica_preferida.txt\"\n",
        "\n",
        "# abrindo o arquivo no modo que permite escrita \n",
        "file = open(arquivos, 'w') \n",
        "file.write(\"I love you\") \n",
        "file.close() "
      ],
      "execution_count": 34,
      "outputs": []
    },
    {
      "cell_type": "code",
      "metadata": {
        "id": "gLgl--x8TnmX"
      },
      "source": [
        "#@title Solução\n",
        "with open('aluno.txt', 'w') as aluno:\n",
        "  aluno.write('Rafael')"
      ],
      "execution_count": null,
      "outputs": []
    },
    {
      "cell_type": "code",
      "metadata": {
        "id": "8LCV7SBWdf69"
      },
      "source": [
        "# b) acrescente sua idade e profissão\n",
        "with open(arquivos, 'a') as arquivos:\n",
        "  arquivos.write('\\n37\\nadm')"
      ],
      "execution_count": 35,
      "outputs": []
    },
    {
      "cell_type": "code",
      "metadata": {
        "id": "CWPiwuLXdiO5"
      },
      "source": [
        "#@title Solução\n",
        "with open('aluno.txt', 'a') as aluno:\n",
        "  aluno.write('\\n24 anos\\nCientista de Dados')"
      ],
      "execution_count": null,
      "outputs": []
    },
    {
      "cell_type": "code",
      "metadata": {
        "id": "-Lb3z8vPdvN-",
        "colab": {
          "base_uri": "https://localhost:8080/"
        },
        "outputId": "fe750952-0645-4d7c-cdc1-d39d6e3077e3"
      },
      "source": [
        "# c) leia as informações contidas no arquivo\n",
        "\n",
        "with open('Musica_preferida.txt', 'r') as aluno:\n",
        "  print(aluno.read())"
      ],
      "execution_count": 40,
      "outputs": [
        {
          "output_type": "stream",
          "text": [
            "I love you\n",
            "37\n",
            "adm\n"
          ],
          "name": "stdout"
        }
      ]
    },
    {
      "cell_type": "code",
      "metadata": {
        "id": "oZDbgSoGd3N9",
        "colab": {
          "base_uri": "https://localhost:8080/"
        },
        "outputId": "ced8b23a-4dee-4191-d4e8-178ffa33c9db"
      },
      "source": [
        "#@title Solução\n",
        "with open('Musica_preferida.txt', 'r') as aluno:\n",
        "  print(aluno.read())"
      ],
      "execution_count": 38,
      "outputs": [
        {
          "output_type": "stream",
          "text": [
            "I love you\n",
            "37\n",
            "adm\n"
          ],
          "name": "stdout"
        }
      ]
    },
    {
      "cell_type": "markdown",
      "metadata": {
        "id": "ihW0S9ti-fzg"
      },
      "source": [
        "### Exercício 3\n",
        "\n",
        "Renomeie o arquivo para sigmoidal.txt."
      ]
    },
    {
      "cell_type": "code",
      "metadata": {
        "id": "cPXKwKCv9Ah6",
        "colab": {
          "base_uri": "https://localhost:8080/"
        },
        "outputId": "5c78f35b-9f10-4324-ad4e-7f682b5af92e"
      },
      "source": [
        "# renomeie o arquivo\n",
        "os.rename('Musica_preferida.txt', 'Musicas_preferida.txt')\n",
        "# verificando que o nome do arquivo foi mudado\n",
        "os.listdir()"
      ],
      "execution_count": 44,
      "outputs": [
        {
          "output_type": "execute_result",
          "data": {
            "text/plain": [
              "['anscombe.json',\n",
              " 'README.md',\n",
              " 'sigmoidal.txt',\n",
              " 'Musicas_preferida.txt',\n",
              " 'juju.txt',\n",
              " 'mnist_train_small.csv',\n",
              " 'mnist_test.csv',\n",
              " 'california_housing_train.csv',\n",
              " 'california_housing_test.csv']"
            ]
          },
          "metadata": {
            "tags": []
          },
          "execution_count": 44
        }
      ]
    }
  ]
}